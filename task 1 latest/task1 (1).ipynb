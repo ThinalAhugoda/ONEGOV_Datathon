{
  "cells": [
    {
      "cell_type": "code",
      "execution_count": null,
      "id": "0617f67f",
      "metadata": {
        "colab": {
          "base_uri": "https://localhost:8080/"
        },
        "id": "0617f67f",
        "outputId": "27f84b20-be56-4e3f-f636-647e18837535"
      },
      "outputs": [
        {
          "output_type": "stream",
          "name": "stdout",
          "text": [
            "Requirement already satisfied: xgboost in /usr/local/lib/python3.12/dist-packages (3.0.4)\n",
            "Requirement already satisfied: numpy in /usr/local/lib/python3.12/dist-packages (from xgboost) (2.0.2)\n",
            "Requirement already satisfied: nvidia-nccl-cu12 in /usr/local/lib/python3.12/dist-packages (from xgboost) (2.27.3)\n",
            "Requirement already satisfied: scipy in /usr/local/lib/python3.12/dist-packages (from xgboost) (1.16.1)\n"
          ]
        }
      ],
      "source": [
        "!pip install xgboost\n"
      ]
    },
    {
      "cell_type": "code",
      "execution_count": null,
      "id": "b19c52d3",
      "metadata": {
        "id": "b19c52d3"
      },
      "outputs": [],
      "source": [
        "#import all dependencies\n",
        "import pandas as pd\n",
        "import numpy as np\n",
        "import matplotlib.pyplot as plt\n",
        "#import seaborn as sns\n",
        "\n",
        "\n",
        "from sklearn.model_selection import train_test_split\n",
        "from sklearn.metrics import mean_squared_error, mean_absolute_error, r2_score\n",
        "from xgboost import XGBRegressor\n",
        "\n",
        "from sklearn.utils import resample\n",
        "\n",
        "#from sklearn.model_selection import GridSearchCV\n",
        "\n",
        "\n",
        "#from sklearn.metrics import mean_squared_error"
      ]
    },
    {
      "cell_type": "markdown",
      "id": "fa6af9e9",
      "metadata": {
        "id": "fa6af9e9"
      },
      "source": [
        "# **Data Pre Processing** #\n"
      ]
    },
    {
      "cell_type": "code",
      "execution_count": null,
      "id": "7a43cba8",
      "metadata": {
        "id": "7a43cba8"
      },
      "outputs": [],
      "source": [
        "df = pd.read_csv('/content/bookings_train.csv')"
      ]
    },
    {
      "cell_type": "code",
      "execution_count": null,
      "id": "c52e1a7b",
      "metadata": {
        "colab": {
          "base_uri": "https://localhost:8080/",
          "height": 617
        },
        "id": "c52e1a7b",
        "outputId": "38cb8c8b-54d9-4a18-ad64-4e81dfb50292"
      },
      "outputs": [
        {
          "output_type": "execute_result",
          "data": {
            "text/plain": [
              "                                    booking_id  citizen_id booking_date  \\\n",
              "0     f7b59ba3793fea61282cb02be2247cebd0a75306  4229044420   2021-01-01   \n",
              "1     cfe30d53b4b645e4cb6b114f6c9d74a0f25e6a80  5389442635   2021-01-01   \n",
              "2     0fb0a5d9b3944dd743a9e7828dc03fa74aa6ebf8  2123783919   2021-01-01   \n",
              "3     d4bf826153212fa325ad98b215668ab942365607  6359918966   2021-01-01   \n",
              "4     ebb4c9687acbaf65376d8e379bd1341d1c15127e   178732202   2021-01-01   \n",
              "...                                        ...         ...          ...   \n",
              "9995  93baa8b3058778673e796a452e057fa447209d35    95036770   2021-03-17   \n",
              "9996  d3d3b10824aabbcb6b50563a0cf341af5ffda556  5614551621   2021-02-24   \n",
              "9997  b915b6b13e40a39f1c8504122159030e374375ac  6745666198   2021-03-05   \n",
              "9998  ae72b41232ba927f022fe2c025e37a9e3964e298  8188006305   2021-02-23   \n",
              "9999  b3f95de65f22719abfbdb5432621c52412bd1d32  5298559473   2021-03-15   \n",
              "\n",
              "     appointment_date appointment_time        check_in_time  \\\n",
              "0          2021-01-01            09:03  2021-01-01 09:11:00   \n",
              "1          2021-01-01            09:12  2021-01-01 09:24:00   \n",
              "2          2021-01-01            09:36  2021-01-01 09:29:00   \n",
              "3          2021-01-01            09:45  2021-01-01 10:07:00   \n",
              "4          2021-01-01            10:12  2021-01-01 10:26:00   \n",
              "...               ...              ...                  ...   \n",
              "9995       2021-03-17            10:41  2021-03-17 10:54:00   \n",
              "9996       2021-03-17            10:47  2021-03-17 11:08:00   \n",
              "9997       2021-03-17            10:47  2021-03-17 10:56:00   \n",
              "9998       2021-03-17            10:55  2021-03-17 11:10:00   \n",
              "9999       2021-03-17            11:31  2021-03-17 11:51:00   \n",
              "\n",
              "                     check_out_time   task_id  num_documents  queue_number  \\\n",
              "0     2021-01-01 09:48:15.166353269  TASK-002              0             2   \n",
              "1     2021-01-01 10:24:12.189261137  TASK-001              1             1   \n",
              "2     2021-01-01 10:26:48.802260864  TASK-002              1             6   \n",
              "3     2021-01-01 11:00:13.485642822  TASK-001              1             4   \n",
              "4     2021-01-01 11:54:53.260180213  TASK-002              1             8   \n",
              "...                             ...       ...            ...           ...   \n",
              "9995  2021-03-17 11:35:40.027823026  TASK-008              5            20   \n",
              "9996  2021-03-17 11:58:01.339172584  TASK-009              4             1   \n",
              "9997  2021-03-17 11:27:27.452392748  TASK-008              2             4   \n",
              "9998  2021-03-17 12:05:58.865028594  TASK-009              6             2   \n",
              "9999  2021-03-17 12:12:08.598626975  TASK-007              0             9   \n",
              "\n",
              "      satisfaction_rating  \n",
              "0                       4  \n",
              "1                       4  \n",
              "2                       5  \n",
              "3                       4  \n",
              "4                       3  \n",
              "...                   ...  \n",
              "9995                    4  \n",
              "9996                    4  \n",
              "9997                    4  \n",
              "9998                    4  \n",
              "9999                    4  \n",
              "\n",
              "[10000 rows x 11 columns]"
            ],
            "text/html": [
              "\n",
              "  <div id=\"df-090d28da-7bee-45ce-9938-460c59700317\" class=\"colab-df-container\">\n",
              "    <div>\n",
              "<style scoped>\n",
              "    .dataframe tbody tr th:only-of-type {\n",
              "        vertical-align: middle;\n",
              "    }\n",
              "\n",
              "    .dataframe tbody tr th {\n",
              "        vertical-align: top;\n",
              "    }\n",
              "\n",
              "    .dataframe thead th {\n",
              "        text-align: right;\n",
              "    }\n",
              "</style>\n",
              "<table border=\"1\" class=\"dataframe\">\n",
              "  <thead>\n",
              "    <tr style=\"text-align: right;\">\n",
              "      <th></th>\n",
              "      <th>booking_id</th>\n",
              "      <th>citizen_id</th>\n",
              "      <th>booking_date</th>\n",
              "      <th>appointment_date</th>\n",
              "      <th>appointment_time</th>\n",
              "      <th>check_in_time</th>\n",
              "      <th>check_out_time</th>\n",
              "      <th>task_id</th>\n",
              "      <th>num_documents</th>\n",
              "      <th>queue_number</th>\n",
              "      <th>satisfaction_rating</th>\n",
              "    </tr>\n",
              "  </thead>\n",
              "  <tbody>\n",
              "    <tr>\n",
              "      <th>0</th>\n",
              "      <td>f7b59ba3793fea61282cb02be2247cebd0a75306</td>\n",
              "      <td>4229044420</td>\n",
              "      <td>2021-01-01</td>\n",
              "      <td>2021-01-01</td>\n",
              "      <td>09:03</td>\n",
              "      <td>2021-01-01 09:11:00</td>\n",
              "      <td>2021-01-01 09:48:15.166353269</td>\n",
              "      <td>TASK-002</td>\n",
              "      <td>0</td>\n",
              "      <td>2</td>\n",
              "      <td>4</td>\n",
              "    </tr>\n",
              "    <tr>\n",
              "      <th>1</th>\n",
              "      <td>cfe30d53b4b645e4cb6b114f6c9d74a0f25e6a80</td>\n",
              "      <td>5389442635</td>\n",
              "      <td>2021-01-01</td>\n",
              "      <td>2021-01-01</td>\n",
              "      <td>09:12</td>\n",
              "      <td>2021-01-01 09:24:00</td>\n",
              "      <td>2021-01-01 10:24:12.189261137</td>\n",
              "      <td>TASK-001</td>\n",
              "      <td>1</td>\n",
              "      <td>1</td>\n",
              "      <td>4</td>\n",
              "    </tr>\n",
              "    <tr>\n",
              "      <th>2</th>\n",
              "      <td>0fb0a5d9b3944dd743a9e7828dc03fa74aa6ebf8</td>\n",
              "      <td>2123783919</td>\n",
              "      <td>2021-01-01</td>\n",
              "      <td>2021-01-01</td>\n",
              "      <td>09:36</td>\n",
              "      <td>2021-01-01 09:29:00</td>\n",
              "      <td>2021-01-01 10:26:48.802260864</td>\n",
              "      <td>TASK-002</td>\n",
              "      <td>1</td>\n",
              "      <td>6</td>\n",
              "      <td>5</td>\n",
              "    </tr>\n",
              "    <tr>\n",
              "      <th>3</th>\n",
              "      <td>d4bf826153212fa325ad98b215668ab942365607</td>\n",
              "      <td>6359918966</td>\n",
              "      <td>2021-01-01</td>\n",
              "      <td>2021-01-01</td>\n",
              "      <td>09:45</td>\n",
              "      <td>2021-01-01 10:07:00</td>\n",
              "      <td>2021-01-01 11:00:13.485642822</td>\n",
              "      <td>TASK-001</td>\n",
              "      <td>1</td>\n",
              "      <td>4</td>\n",
              "      <td>4</td>\n",
              "    </tr>\n",
              "    <tr>\n",
              "      <th>4</th>\n",
              "      <td>ebb4c9687acbaf65376d8e379bd1341d1c15127e</td>\n",
              "      <td>178732202</td>\n",
              "      <td>2021-01-01</td>\n",
              "      <td>2021-01-01</td>\n",
              "      <td>10:12</td>\n",
              "      <td>2021-01-01 10:26:00</td>\n",
              "      <td>2021-01-01 11:54:53.260180213</td>\n",
              "      <td>TASK-002</td>\n",
              "      <td>1</td>\n",
              "      <td>8</td>\n",
              "      <td>3</td>\n",
              "    </tr>\n",
              "    <tr>\n",
              "      <th>...</th>\n",
              "      <td>...</td>\n",
              "      <td>...</td>\n",
              "      <td>...</td>\n",
              "      <td>...</td>\n",
              "      <td>...</td>\n",
              "      <td>...</td>\n",
              "      <td>...</td>\n",
              "      <td>...</td>\n",
              "      <td>...</td>\n",
              "      <td>...</td>\n",
              "      <td>...</td>\n",
              "    </tr>\n",
              "    <tr>\n",
              "      <th>9995</th>\n",
              "      <td>93baa8b3058778673e796a452e057fa447209d35</td>\n",
              "      <td>95036770</td>\n",
              "      <td>2021-03-17</td>\n",
              "      <td>2021-03-17</td>\n",
              "      <td>10:41</td>\n",
              "      <td>2021-03-17 10:54:00</td>\n",
              "      <td>2021-03-17 11:35:40.027823026</td>\n",
              "      <td>TASK-008</td>\n",
              "      <td>5</td>\n",
              "      <td>20</td>\n",
              "      <td>4</td>\n",
              "    </tr>\n",
              "    <tr>\n",
              "      <th>9996</th>\n",
              "      <td>d3d3b10824aabbcb6b50563a0cf341af5ffda556</td>\n",
              "      <td>5614551621</td>\n",
              "      <td>2021-02-24</td>\n",
              "      <td>2021-03-17</td>\n",
              "      <td>10:47</td>\n",
              "      <td>2021-03-17 11:08:00</td>\n",
              "      <td>2021-03-17 11:58:01.339172584</td>\n",
              "      <td>TASK-009</td>\n",
              "      <td>4</td>\n",
              "      <td>1</td>\n",
              "      <td>4</td>\n",
              "    </tr>\n",
              "    <tr>\n",
              "      <th>9997</th>\n",
              "      <td>b915b6b13e40a39f1c8504122159030e374375ac</td>\n",
              "      <td>6745666198</td>\n",
              "      <td>2021-03-05</td>\n",
              "      <td>2021-03-17</td>\n",
              "      <td>10:47</td>\n",
              "      <td>2021-03-17 10:56:00</td>\n",
              "      <td>2021-03-17 11:27:27.452392748</td>\n",
              "      <td>TASK-008</td>\n",
              "      <td>2</td>\n",
              "      <td>4</td>\n",
              "      <td>4</td>\n",
              "    </tr>\n",
              "    <tr>\n",
              "      <th>9998</th>\n",
              "      <td>ae72b41232ba927f022fe2c025e37a9e3964e298</td>\n",
              "      <td>8188006305</td>\n",
              "      <td>2021-02-23</td>\n",
              "      <td>2021-03-17</td>\n",
              "      <td>10:55</td>\n",
              "      <td>2021-03-17 11:10:00</td>\n",
              "      <td>2021-03-17 12:05:58.865028594</td>\n",
              "      <td>TASK-009</td>\n",
              "      <td>6</td>\n",
              "      <td>2</td>\n",
              "      <td>4</td>\n",
              "    </tr>\n",
              "    <tr>\n",
              "      <th>9999</th>\n",
              "      <td>b3f95de65f22719abfbdb5432621c52412bd1d32</td>\n",
              "      <td>5298559473</td>\n",
              "      <td>2021-03-15</td>\n",
              "      <td>2021-03-17</td>\n",
              "      <td>11:31</td>\n",
              "      <td>2021-03-17 11:51:00</td>\n",
              "      <td>2021-03-17 12:12:08.598626975</td>\n",
              "      <td>TASK-007</td>\n",
              "      <td>0</td>\n",
              "      <td>9</td>\n",
              "      <td>4</td>\n",
              "    </tr>\n",
              "  </tbody>\n",
              "</table>\n",
              "<p>10000 rows × 11 columns</p>\n",
              "</div>\n",
              "    <div class=\"colab-df-buttons\">\n",
              "\n",
              "  <div class=\"colab-df-container\">\n",
              "    <button class=\"colab-df-convert\" onclick=\"convertToInteractive('df-090d28da-7bee-45ce-9938-460c59700317')\"\n",
              "            title=\"Convert this dataframe to an interactive table.\"\n",
              "            style=\"display:none;\">\n",
              "\n",
              "  <svg xmlns=\"http://www.w3.org/2000/svg\" height=\"24px\" viewBox=\"0 -960 960 960\">\n",
              "    <path d=\"M120-120v-720h720v720H120Zm60-500h600v-160H180v160Zm220 220h160v-160H400v160Zm0 220h160v-160H400v160ZM180-400h160v-160H180v160Zm440 0h160v-160H620v160ZM180-180h160v-160H180v160Zm440 0h160v-160H620v160Z\"/>\n",
              "  </svg>\n",
              "    </button>\n",
              "\n",
              "  <style>\n",
              "    .colab-df-container {\n",
              "      display:flex;\n",
              "      gap: 12px;\n",
              "    }\n",
              "\n",
              "    .colab-df-convert {\n",
              "      background-color: #E8F0FE;\n",
              "      border: none;\n",
              "      border-radius: 50%;\n",
              "      cursor: pointer;\n",
              "      display: none;\n",
              "      fill: #1967D2;\n",
              "      height: 32px;\n",
              "      padding: 0 0 0 0;\n",
              "      width: 32px;\n",
              "    }\n",
              "\n",
              "    .colab-df-convert:hover {\n",
              "      background-color: #E2EBFA;\n",
              "      box-shadow: 0px 1px 2px rgba(60, 64, 67, 0.3), 0px 1px 3px 1px rgba(60, 64, 67, 0.15);\n",
              "      fill: #174EA6;\n",
              "    }\n",
              "\n",
              "    .colab-df-buttons div {\n",
              "      margin-bottom: 4px;\n",
              "    }\n",
              "\n",
              "    [theme=dark] .colab-df-convert {\n",
              "      background-color: #3B4455;\n",
              "      fill: #D2E3FC;\n",
              "    }\n",
              "\n",
              "    [theme=dark] .colab-df-convert:hover {\n",
              "      background-color: #434B5C;\n",
              "      box-shadow: 0px 1px 3px 1px rgba(0, 0, 0, 0.15);\n",
              "      filter: drop-shadow(0px 1px 2px rgba(0, 0, 0, 0.3));\n",
              "      fill: #FFFFFF;\n",
              "    }\n",
              "  </style>\n",
              "\n",
              "    <script>\n",
              "      const buttonEl =\n",
              "        document.querySelector('#df-090d28da-7bee-45ce-9938-460c59700317 button.colab-df-convert');\n",
              "      buttonEl.style.display =\n",
              "        google.colab.kernel.accessAllowed ? 'block' : 'none';\n",
              "\n",
              "      async function convertToInteractive(key) {\n",
              "        const element = document.querySelector('#df-090d28da-7bee-45ce-9938-460c59700317');\n",
              "        const dataTable =\n",
              "          await google.colab.kernel.invokeFunction('convertToInteractive',\n",
              "                                                    [key], {});\n",
              "        if (!dataTable) return;\n",
              "\n",
              "        const docLinkHtml = 'Like what you see? Visit the ' +\n",
              "          '<a target=\"_blank\" href=https://colab.research.google.com/notebooks/data_table.ipynb>data table notebook</a>'\n",
              "          + ' to learn more about interactive tables.';\n",
              "        element.innerHTML = '';\n",
              "        dataTable['output_type'] = 'display_data';\n",
              "        await google.colab.output.renderOutput(dataTable, element);\n",
              "        const docLink = document.createElement('div');\n",
              "        docLink.innerHTML = docLinkHtml;\n",
              "        element.appendChild(docLink);\n",
              "      }\n",
              "    </script>\n",
              "  </div>\n",
              "\n",
              "\n",
              "    <div id=\"df-f821afaf-1213-4171-8c3d-d260370c882f\">\n",
              "      <button class=\"colab-df-quickchart\" onclick=\"quickchart('df-f821afaf-1213-4171-8c3d-d260370c882f')\"\n",
              "                title=\"Suggest charts\"\n",
              "                style=\"display:none;\">\n",
              "\n",
              "<svg xmlns=\"http://www.w3.org/2000/svg\" height=\"24px\"viewBox=\"0 0 24 24\"\n",
              "     width=\"24px\">\n",
              "    <g>\n",
              "        <path d=\"M19 3H5c-1.1 0-2 .9-2 2v14c0 1.1.9 2 2 2h14c1.1 0 2-.9 2-2V5c0-1.1-.9-2-2-2zM9 17H7v-7h2v7zm4 0h-2V7h2v10zm4 0h-2v-4h2v4z\"/>\n",
              "    </g>\n",
              "</svg>\n",
              "      </button>\n",
              "\n",
              "<style>\n",
              "  .colab-df-quickchart {\n",
              "      --bg-color: #E8F0FE;\n",
              "      --fill-color: #1967D2;\n",
              "      --hover-bg-color: #E2EBFA;\n",
              "      --hover-fill-color: #174EA6;\n",
              "      --disabled-fill-color: #AAA;\n",
              "      --disabled-bg-color: #DDD;\n",
              "  }\n",
              "\n",
              "  [theme=dark] .colab-df-quickchart {\n",
              "      --bg-color: #3B4455;\n",
              "      --fill-color: #D2E3FC;\n",
              "      --hover-bg-color: #434B5C;\n",
              "      --hover-fill-color: #FFFFFF;\n",
              "      --disabled-bg-color: #3B4455;\n",
              "      --disabled-fill-color: #666;\n",
              "  }\n",
              "\n",
              "  .colab-df-quickchart {\n",
              "    background-color: var(--bg-color);\n",
              "    border: none;\n",
              "    border-radius: 50%;\n",
              "    cursor: pointer;\n",
              "    display: none;\n",
              "    fill: var(--fill-color);\n",
              "    height: 32px;\n",
              "    padding: 0;\n",
              "    width: 32px;\n",
              "  }\n",
              "\n",
              "  .colab-df-quickchart:hover {\n",
              "    background-color: var(--hover-bg-color);\n",
              "    box-shadow: 0 1px 2px rgba(60, 64, 67, 0.3), 0 1px 3px 1px rgba(60, 64, 67, 0.15);\n",
              "    fill: var(--button-hover-fill-color);\n",
              "  }\n",
              "\n",
              "  .colab-df-quickchart-complete:disabled,\n",
              "  .colab-df-quickchart-complete:disabled:hover {\n",
              "    background-color: var(--disabled-bg-color);\n",
              "    fill: var(--disabled-fill-color);\n",
              "    box-shadow: none;\n",
              "  }\n",
              "\n",
              "  .colab-df-spinner {\n",
              "    border: 2px solid var(--fill-color);\n",
              "    border-color: transparent;\n",
              "    border-bottom-color: var(--fill-color);\n",
              "    animation:\n",
              "      spin 1s steps(1) infinite;\n",
              "  }\n",
              "\n",
              "  @keyframes spin {\n",
              "    0% {\n",
              "      border-color: transparent;\n",
              "      border-bottom-color: var(--fill-color);\n",
              "      border-left-color: var(--fill-color);\n",
              "    }\n",
              "    20% {\n",
              "      border-color: transparent;\n",
              "      border-left-color: var(--fill-color);\n",
              "      border-top-color: var(--fill-color);\n",
              "    }\n",
              "    30% {\n",
              "      border-color: transparent;\n",
              "      border-left-color: var(--fill-color);\n",
              "      border-top-color: var(--fill-color);\n",
              "      border-right-color: var(--fill-color);\n",
              "    }\n",
              "    40% {\n",
              "      border-color: transparent;\n",
              "      border-right-color: var(--fill-color);\n",
              "      border-top-color: var(--fill-color);\n",
              "    }\n",
              "    60% {\n",
              "      border-color: transparent;\n",
              "      border-right-color: var(--fill-color);\n",
              "    }\n",
              "    80% {\n",
              "      border-color: transparent;\n",
              "      border-right-color: var(--fill-color);\n",
              "      border-bottom-color: var(--fill-color);\n",
              "    }\n",
              "    90% {\n",
              "      border-color: transparent;\n",
              "      border-bottom-color: var(--fill-color);\n",
              "    }\n",
              "  }\n",
              "</style>\n",
              "\n",
              "      <script>\n",
              "        async function quickchart(key) {\n",
              "          const quickchartButtonEl =\n",
              "            document.querySelector('#' + key + ' button');\n",
              "          quickchartButtonEl.disabled = true;  // To prevent multiple clicks.\n",
              "          quickchartButtonEl.classList.add('colab-df-spinner');\n",
              "          try {\n",
              "            const charts = await google.colab.kernel.invokeFunction(\n",
              "                'suggestCharts', [key], {});\n",
              "          } catch (error) {\n",
              "            console.error('Error during call to suggestCharts:', error);\n",
              "          }\n",
              "          quickchartButtonEl.classList.remove('colab-df-spinner');\n",
              "          quickchartButtonEl.classList.add('colab-df-quickchart-complete');\n",
              "        }\n",
              "        (() => {\n",
              "          let quickchartButtonEl =\n",
              "            document.querySelector('#df-f821afaf-1213-4171-8c3d-d260370c882f button');\n",
              "          quickchartButtonEl.style.display =\n",
              "            google.colab.kernel.accessAllowed ? 'block' : 'none';\n",
              "        })();\n",
              "      </script>\n",
              "    </div>\n",
              "\n",
              "    </div>\n",
              "  </div>\n"
            ],
            "application/vnd.google.colaboratory.intrinsic+json": {
              "type": "dataframe",
              "summary": "{\n  \"name\": \"df\",\n  \"rows\": 10000,\n  \"fields\": [\n    {\n      \"column\": \"booking_id\",\n      \"properties\": {\n        \"dtype\": \"string\",\n        \"num_unique_values\": 10000,\n        \"samples\": [\n          \"f92a3daf69fbeda7bfa8ba6c492e69c90573fcb8\",\n          \"d8bc799c7e2df56a47cef48973a2846090b76a24\",\n          \"f4b70629c942acb114e8dc9df9575950a3240ab1\"\n        ],\n        \"semantic_type\": \"\",\n        \"description\": \"\"\n      }\n    },\n    {\n      \"column\": \"citizen_id\",\n      \"properties\": {\n        \"dtype\": \"number\",\n        \"std\": 2874281127,\n        \"min\": 235285,\n        \"max\": 9999895086,\n        \"num_unique_values\": 10000,\n        \"samples\": [\n          7253501397,\n          3963667324,\n          8667397341\n        ],\n        \"semantic_type\": \"\",\n        \"description\": \"\"\n      }\n    },\n    {\n      \"column\": \"booking_date\",\n      \"properties\": {\n        \"dtype\": \"object\",\n        \"num_unique_values\": 49,\n        \"samples\": [\n          \"2021-01-21\",\n          \"2021-03-12\",\n          \"2021-03-16\"\n        ],\n        \"semantic_type\": \"\",\n        \"description\": \"\"\n      }\n    },\n    {\n      \"column\": \"appointment_date\",\n      \"properties\": {\n        \"dtype\": \"object\",\n        \"num_unique_values\": 49,\n        \"samples\": [\n          \"2021-01-21\",\n          \"2021-03-12\",\n          \"2021-03-16\"\n        ],\n        \"semantic_type\": \"\",\n        \"description\": \"\"\n      }\n    },\n    {\n      \"column\": \"appointment_time\",\n      \"properties\": {\n        \"dtype\": \"object\",\n        \"num_unique_values\": 421,\n        \"samples\": [\n          \"10:50\",\n          \"15:45\",\n          \"11:00\"\n        ],\n        \"semantic_type\": \"\",\n        \"description\": \"\"\n      }\n    },\n    {\n      \"column\": \"check_in_time\",\n      \"properties\": {\n        \"dtype\": \"object\",\n        \"num_unique_values\": 7094,\n        \"samples\": [\n          \"2021-03-17 10:43:00\",\n          \"2021-03-02 13:57:00\",\n          \"2021-01-29 11:40:00\"\n        ],\n        \"semantic_type\": \"\",\n        \"description\": \"\"\n      }\n    },\n    {\n      \"column\": \"check_out_time\",\n      \"properties\": {\n        \"dtype\": \"object\",\n        \"num_unique_values\": 9701,\n        \"samples\": [\n          \"2021-01-05 15:38:48.482854238\",\n          \"2021-03-01 11:36:41.399489265\",\n          \"2021-02-25 13:50:10.510319818\"\n        ],\n        \"semantic_type\": \"\",\n        \"description\": \"\"\n      }\n    },\n    {\n      \"column\": \"task_id\",\n      \"properties\": {\n        \"dtype\": \"category\",\n        \"num_unique_values\": 19,\n        \"samples\": [\n          \"TASK-002\",\n          \"TASK-004\",\n          \"TASK-012\"\n        ],\n        \"semantic_type\": \"\",\n        \"description\": \"\"\n      }\n    },\n    {\n      \"column\": \"num_documents\",\n      \"properties\": {\n        \"dtype\": \"number\",\n        \"std\": 1,\n        \"min\": 0,\n        \"max\": 11,\n        \"num_unique_values\": 12,\n        \"samples\": [\n          11,\n          9,\n          0\n        ],\n        \"semantic_type\": \"\",\n        \"description\": \"\"\n      }\n    },\n    {\n      \"column\": \"queue_number\",\n      \"properties\": {\n        \"dtype\": \"number\",\n        \"std\": 7,\n        \"min\": 1,\n        \"max\": 52,\n        \"num_unique_values\": 52,\n        \"samples\": [\n          19,\n          44,\n          47\n        ],\n        \"semantic_type\": \"\",\n        \"description\": \"\"\n      }\n    },\n    {\n      \"column\": \"satisfaction_rating\",\n      \"properties\": {\n        \"dtype\": \"number\",\n        \"std\": 0,\n        \"min\": 3,\n        \"max\": 5,\n        \"num_unique_values\": 3,\n        \"samples\": [\n          4,\n          5,\n          3\n        ],\n        \"semantic_type\": \"\",\n        \"description\": \"\"\n      }\n    }\n  ]\n}"
            }
          },
          "metadata": {},
          "execution_count": 51
        }
      ],
      "source": [
        "df. head(10000)"
      ]
    },
    {
      "cell_type": "code",
      "execution_count": null,
      "id": "35d2a3a6",
      "metadata": {
        "colab": {
          "base_uri": "https://localhost:8080/"
        },
        "collapsed": true,
        "id": "35d2a3a6",
        "outputId": "7988344a-5973-4866-cf21-726ef1093022"
      },
      "outputs": [
        {
          "output_type": "stream",
          "name": "stdout",
          "text": [
            "<class 'pandas.core.frame.DataFrame'>\n",
            "RangeIndex: 203693 entries, 0 to 203692\n",
            "Data columns (total 11 columns):\n",
            " #   Column               Non-Null Count   Dtype \n",
            "---  ------               --------------   ----- \n",
            " 0   booking_id           203693 non-null  object\n",
            " 1   citizen_id           203693 non-null  int64 \n",
            " 2   booking_date         203693 non-null  object\n",
            " 3   appointment_date     203693 non-null  object\n",
            " 4   appointment_time     203693 non-null  object\n",
            " 5   check_in_time        197601 non-null  object\n",
            " 6   check_out_time       197601 non-null  object\n",
            " 7   task_id              203693 non-null  object\n",
            " 8   num_documents        203693 non-null  int64 \n",
            " 9   queue_number         203693 non-null  int64 \n",
            " 10  satisfaction_rating  203693 non-null  int64 \n",
            "dtypes: int64(4), object(7)\n",
            "memory usage: 17.1+ MB\n"
          ]
        }
      ],
      "source": [
        "df. info()"
      ]
    },
    {
      "cell_type": "code",
      "execution_count": null,
      "id": "29934417",
      "metadata": {
        "id": "29934417"
      },
      "outputs": [],
      "source": [
        "# Converting into Datetime\n",
        "df['booking_date'] = pd.to_datetime(df['booking_date'])\n",
        "df['appointment_date'] = pd.to_datetime(df['appointment_date'])\n",
        "df['appointment_time'] = pd.to_datetime(df['appointment_time'], errors='coerce').dt.time\n",
        "df['check_in_time'] = pd.to_datetime(df['check_in_time'], errors='coerce')\n",
        "df['check_out_time'] = pd.to_datetime(df['check_out_time'], errors='coerce')"
      ]
    },
    {
      "cell_type": "code",
      "source": [
        "df.info()"
      ],
      "metadata": {
        "colab": {
          "base_uri": "https://localhost:8080/"
        },
        "id": "1jGqzOARjkJO",
        "outputId": "13e7b6ec-6313-466d-85e1-984e615299a5"
      },
      "id": "1jGqzOARjkJO",
      "execution_count": null,
      "outputs": [
        {
          "output_type": "stream",
          "name": "stdout",
          "text": [
            "<class 'pandas.core.frame.DataFrame'>\n",
            "RangeIndex: 203693 entries, 0 to 203692\n",
            "Data columns (total 11 columns):\n",
            " #   Column               Non-Null Count   Dtype         \n",
            "---  ------               --------------   -----         \n",
            " 0   booking_id           203693 non-null  object        \n",
            " 1   citizen_id           203693 non-null  int64         \n",
            " 2   booking_date         203693 non-null  datetime64[ns]\n",
            " 3   appointment_date     203693 non-null  datetime64[ns]\n",
            " 4   appointment_time     203693 non-null  object        \n",
            " 5   check_in_time        197601 non-null  datetime64[ns]\n",
            " 6   check_out_time       197601 non-null  datetime64[ns]\n",
            " 7   task_id              203693 non-null  object        \n",
            " 8   num_documents        203693 non-null  int64         \n",
            " 9   queue_number         203693 non-null  int64         \n",
            " 10  satisfaction_rating  203693 non-null  int64         \n",
            "dtypes: datetime64[ns](4), int64(4), object(3)\n",
            "memory usage: 17.1+ MB\n"
          ]
        }
      ]
    },
    {
      "cell_type": "code",
      "execution_count": null,
      "id": "968e1efe",
      "metadata": {
        "id": "968e1efe"
      },
      "outputs": [],
      "source": [
        "#this is not directly used in the model, but can use in future\n",
        "df['day_of_week'] = df['appointment_date'].dt.dayofweek        # 0=Mon, 6=Sun\n",
        "df['month'] = df['appointment_date'].dt.month\n",
        "df['year'] = df['appointment_date'].dt.year\n",
        "df['is_weekend'] = df['day_of_week'].isin([5, 6]).astype(int)"
      ]
    },
    {
      "cell_type": "markdown",
      "id": "940563d7",
      "metadata": {
        "id": "940563d7"
      },
      "source": [
        "# **Feature Engineering** #"
      ]
    },
    {
      "cell_type": "code",
      "execution_count": null,
      "id": "c546739d",
      "metadata": {
        "id": "c546739d"
      },
      "outputs": [],
      "source": [
        "df['service_duration'] = (df['check_out_time'] - df['check_in_time']).dt.total_seconds() / 60.0"
      ]
    },
    {
      "cell_type": "code",
      "execution_count": null,
      "id": "f0d8cda3",
      "metadata": {
        "id": "f0d8cda3"
      },
      "outputs": [],
      "source": [
        "# Appointment hour (numeric)\n",
        "df['appointment_hour'] = pd.to_datetime(df['appointment_time'].astype(str), format='%H:%M:%S', errors='coerce').dt.hour"
      ]
    },
    {
      "cell_type": "code",
      "source": [
        "df['appointment_year'] = df['appointment_date'].dt.year\n",
        "df['appointment_month'] = df['appointment_date'].dt.month\n",
        "df['appointment_day'] = df['appointment_date'].dt.day"
      ],
      "metadata": {
        "id": "zHHwvUd_lFNv"
      },
      "id": "zHHwvUd_lFNv",
      "execution_count": null,
      "outputs": []
    },
    {
      "cell_type": "code",
      "source": [
        "df['appointment_hour'] = df['appointment_time'].dt.hour\n",
        "df['appointment_minute'] = df['appointment_time'].dt.minute"
      ],
      "metadata": {
        "id": "o_6VMKUQtGdh"
      },
      "id": "o_6VMKUQtGdh",
      "execution_count": null,
      "outputs": []
    },
    {
      "cell_type": "code",
      "execution_count": null,
      "id": "99edab23",
      "metadata": {
        "id": "99edab23"
      },
      "outputs": [],
      "source": [
        "# Waiting time in minutes #Note: For future enhancement\n",
        "df['waiting_time'] = (\n",
        "    df['check_in_time'] -\n",
        "    pd.to_datetime(df['appointment_date'].astype(str) + ' ' + df['appointment_time'].astype(str), errors='coerce')\n",
        ").dt.total_seconds() / 60.0"
      ]
    },
    {
      "cell_type": "code",
      "execution_count": null,
      "id": "00f21b5b",
      "metadata": {
        "id": "00f21b5b"
      },
      "outputs": [],
      "source": [
        "# Encoding to Task ID\n",
        "df['task_id_encoded'] = df['task_id'].astype('category').cat.codes"
      ]
    },
    {
      "cell_type": "code",
      "execution_count": null,
      "id": "aa33cc30",
      "metadata": {
        "id": "aa33cc30"
      },
      "outputs": [],
      "source": [
        "# Morning/Afternoon/Evening session\n",
        "def get_session(hour):\n",
        "    if 6 <= hour < 12: return \"morning\"\n",
        "    elif 12 <= hour < 17: return \"afternoon\"\n",
        "    elif 17 <= hour < 21: return \"evening\"\n",
        "    else: return \"off_hours\"\n",
        "\n",
        "df['session'] = df['appointment_hour'].apply(get_session)"
      ]
    },
    {
      "cell_type": "code",
      "execution_count": null,
      "id": "f3fc6714",
      "metadata": {
        "id": "f3fc6714"
      },
      "outputs": [],
      "source": [
        "# Peak hour flag (e.g., 9–12 and 14–16 are busy hours)\n",
        "df['is_peak_hour'] = df['appointment_hour'].between(9, 12).astype(int) | df['appointment_hour'].between(14, 16).astype(int)"
      ]
    },
    {
      "cell_type": "markdown",
      "id": "a55925d0",
      "metadata": {
        "id": "a55925d0"
      },
      "source": [
        "# **Explotary Data Analysis / Data cleaning** #"
      ]
    },
    {
      "cell_type": "code",
      "execution_count": null,
      "id": "55b5c03b",
      "metadata": {
        "id": "55b5c03b",
        "colab": {
          "base_uri": "https://localhost:8080/",
          "height": 742
        },
        "collapsed": true,
        "outputId": "7268f3d1-4a35-4015-d921-efb529938250"
      },
      "outputs": [
        {
          "output_type": "execute_result",
          "data": {
            "text/plain": [
              "booking_id                0\n",
              "citizen_id                0\n",
              "booking_date              0\n",
              "appointment_date          0\n",
              "appointment_time          0\n",
              "check_in_time          6092\n",
              "check_out_time         6092\n",
              "task_id                   0\n",
              "num_documents             0\n",
              "queue_number              0\n",
              "satisfaction_rating       0\n",
              "day_of_week               0\n",
              "month                     0\n",
              "year                      0\n",
              "is_weekend                0\n",
              "service_duration       6092\n",
              "appointment_hour          0\n",
              "waiting_time           6092\n",
              "task_id_encoded           0\n",
              "session                   0\n",
              "is_peak_hour              0\n",
              "dtype: int64"
            ],
            "text/html": [
              "<div>\n",
              "<style scoped>\n",
              "    .dataframe tbody tr th:only-of-type {\n",
              "        vertical-align: middle;\n",
              "    }\n",
              "\n",
              "    .dataframe tbody tr th {\n",
              "        vertical-align: top;\n",
              "    }\n",
              "\n",
              "    .dataframe thead th {\n",
              "        text-align: right;\n",
              "    }\n",
              "</style>\n",
              "<table border=\"1\" class=\"dataframe\">\n",
              "  <thead>\n",
              "    <tr style=\"text-align: right;\">\n",
              "      <th></th>\n",
              "      <th>0</th>\n",
              "    </tr>\n",
              "  </thead>\n",
              "  <tbody>\n",
              "    <tr>\n",
              "      <th>booking_id</th>\n",
              "      <td>0</td>\n",
              "    </tr>\n",
              "    <tr>\n",
              "      <th>citizen_id</th>\n",
              "      <td>0</td>\n",
              "    </tr>\n",
              "    <tr>\n",
              "      <th>booking_date</th>\n",
              "      <td>0</td>\n",
              "    </tr>\n",
              "    <tr>\n",
              "      <th>appointment_date</th>\n",
              "      <td>0</td>\n",
              "    </tr>\n",
              "    <tr>\n",
              "      <th>appointment_time</th>\n",
              "      <td>0</td>\n",
              "    </tr>\n",
              "    <tr>\n",
              "      <th>check_in_time</th>\n",
              "      <td>6092</td>\n",
              "    </tr>\n",
              "    <tr>\n",
              "      <th>check_out_time</th>\n",
              "      <td>6092</td>\n",
              "    </tr>\n",
              "    <tr>\n",
              "      <th>task_id</th>\n",
              "      <td>0</td>\n",
              "    </tr>\n",
              "    <tr>\n",
              "      <th>num_documents</th>\n",
              "      <td>0</td>\n",
              "    </tr>\n",
              "    <tr>\n",
              "      <th>queue_number</th>\n",
              "      <td>0</td>\n",
              "    </tr>\n",
              "    <tr>\n",
              "      <th>satisfaction_rating</th>\n",
              "      <td>0</td>\n",
              "    </tr>\n",
              "    <tr>\n",
              "      <th>day_of_week</th>\n",
              "      <td>0</td>\n",
              "    </tr>\n",
              "    <tr>\n",
              "      <th>month</th>\n",
              "      <td>0</td>\n",
              "    </tr>\n",
              "    <tr>\n",
              "      <th>year</th>\n",
              "      <td>0</td>\n",
              "    </tr>\n",
              "    <tr>\n",
              "      <th>is_weekend</th>\n",
              "      <td>0</td>\n",
              "    </tr>\n",
              "    <tr>\n",
              "      <th>service_duration</th>\n",
              "      <td>6092</td>\n",
              "    </tr>\n",
              "    <tr>\n",
              "      <th>appointment_hour</th>\n",
              "      <td>0</td>\n",
              "    </tr>\n",
              "    <tr>\n",
              "      <th>waiting_time</th>\n",
              "      <td>6092</td>\n",
              "    </tr>\n",
              "    <tr>\n",
              "      <th>task_id_encoded</th>\n",
              "      <td>0</td>\n",
              "    </tr>\n",
              "    <tr>\n",
              "      <th>session</th>\n",
              "      <td>0</td>\n",
              "    </tr>\n",
              "    <tr>\n",
              "      <th>is_peak_hour</th>\n",
              "      <td>0</td>\n",
              "    </tr>\n",
              "  </tbody>\n",
              "</table>\n",
              "</div><br><label><b>dtype:</b> int64</label>"
            ]
          },
          "metadata": {},
          "execution_count": 71
        }
      ],
      "source": [
        "df.isnull().sum()"
      ]
    },
    {
      "cell_type": "code",
      "execution_count": null,
      "id": "ccf3ff27",
      "metadata": {
        "id": "ccf3ff27"
      },
      "outputs": [],
      "source": [
        "df = df.dropna(subset=['check_in_time', 'check_out_time', 'service_duration']).reset_index(drop=True)"
      ]
    },
    {
      "cell_type": "markdown",
      "source": [
        "## Detecting Outliers\n"
      ],
      "metadata": {
        "id": "IdlT0Qo4mJ3-"
      },
      "id": "IdlT0Qo4mJ3-"
    },
    {
      "cell_type": "code",
      "source": [
        "# Example for a single numeric column\n",
        "plt.boxplot(df['appointment_day'])\n",
        "plt.title(\"Boxplot of your_column\")\n",
        "plt.show()"
      ],
      "metadata": {
        "colab": {
          "base_uri": "https://localhost:8080/",
          "height": 452
        },
        "id": "M6vaaypcmMmg",
        "outputId": "642bc91f-887a-42b4-a9b0-1cef4b423285"
      },
      "id": "M6vaaypcmMmg",
      "execution_count": null,
      "outputs": [
        {
          "output_type": "display_data",
          "data": {
            "text/plain": [
              "<Figure size 640x480 with 1 Axes>"
            ],
            "image/png": "[encoded data removed]"
          },
          "metadata": {}
        }
      ]
    },
    {
      "cell_type": "markdown",
      "id": "772c0e7f",
      "metadata": {
        "id": "772c0e7f"
      },
      "source": [
        "# **Model Training** #"
      ]
    },
    {
      "cell_type": "code",
      "execution_count": null,
      "id": "86f6de71",
      "metadata": {
        "id": "86f6de71",
        "colab": {
          "base_uri": "https://localhost:8080/"
        },
        "collapsed": true,
        "outputId": "160fd9a4-b436-4e20-b95c-f0e1c57a42a9"
      },
      "outputs": [
        {
          "output_type": "stream",
          "name": "stdout",
          "text": [
            "<class 'pandas.core.frame.DataFrame'>\n",
            "RangeIndex: 197601 entries, 0 to 197600\n",
            "Data columns (total 25 columns):\n",
            " #   Column               Non-Null Count   Dtype         \n",
            "---  ------               --------------   -----         \n",
            " 0   booking_id           197601 non-null  object        \n",
            " 1   citizen_id           197601 non-null  int64         \n",
            " 2   booking_date         197601 non-null  datetime64[ns]\n",
            " 3   appointment_date     197601 non-null  datetime64[ns]\n",
            " 4   appointment_time     0 non-null       datetime64[ns]\n",
            " 5   check_in_time        197601 non-null  datetime64[ns]\n",
            " 6   check_out_time       197601 non-null  datetime64[ns]\n",
            " 7   task_id              197601 non-null  object        \n",
            " 8   num_documents        197601 non-null  int64         \n",
            " 9   queue_number         197601 non-null  int64         \n",
            " 10  satisfaction_rating  197601 non-null  int64         \n",
            " 11  day_of_week          197601 non-null  int32         \n",
            " 12  month                197601 non-null  int32         \n",
            " 13  year                 197601 non-null  int32         \n",
            " 14  is_weekend           197601 non-null  int64         \n",
            " 15  service_duration     197601 non-null  float64       \n",
            " 16  appointment_hour     0 non-null       float64       \n",
            " 17  waiting_time         197601 non-null  float64       \n",
            " 18  task_id_encoded      197601 non-null  int8          \n",
            " 19  session              197601 non-null  object        \n",
            " 20  is_peak_hour         197601 non-null  int64         \n",
            " 21  appointment_year     197601 non-null  int32         \n",
            " 22  appointment_month    197601 non-null  int32         \n",
            " 23  appointment_day      197601 non-null  int32         \n",
            " 24  appointment_minute   0 non-null       float64       \n",
            "dtypes: datetime64[ns](5), float64(4), int32(6), int64(6), int8(1), object(3)\n",
            "memory usage: 31.8+ MB\n"
          ]
        }
      ],
      "source": [
        "df.info()"
      ]
    },
    {
      "cell_type": "code",
      "source": [
        "df['service_duration_log'] = np.log1p(df['service_duration'])"
      ],
      "metadata": {
        "id": "9jo1byvvx_LD"
      },
      "id": "9jo1byvvx_LD",
      "execution_count": null,
      "outputs": []
    },
    {
      "cell_type": "code",
      "source": [
        "# Split into two groups\n",
        "df_majority = df[df['service_duration'] <= 120]\n",
        "df_minority = df[df['service_duration'] > 130 ]\n",
        "#df_more_minority = df[df['service_duration'] > 150]\n",
        "\n",
        "# Oversample minority >= 101\n",
        "df_minority_oversampled = resample(\n",
        "    df_minority,\n",
        "    replace=True,       # sample with replacement\n",
        "    n_samples=120000, # match majority count\n",
        "    random_state=42\n",
        ")\n",
        "\n",
        "# Oversample more minority - > 150\n",
        "df_more_minority_oversampled = resample(\n",
        "    df_minority,\n",
        "    replace=True,       # sample with replacement\n",
        "    n_samples=100000, # match majority count\n",
        "    random_state=42\n",
        ")\n",
        "\n",
        "# Combine\n",
        "df_balanced = pd.concat([df_majority, df_minority_oversampled, ])\n",
        "\n",
        "\n",
        "\n",
        "print(\"Before balancing:\", df.shape)\n",
        "print(\"After balancing:\", df_balanced.shape)\n",
        "print(df_balanced['service_duration'].gt(100).value_counts())\n"
      ],
      "metadata": {
        "colab": {
          "base_uri": "https://localhost:8080/"
        },
        "id": "0exxDQ_Mz7y1",
        "outputId": "4b99ce3a-253b-439e-d9b4-3eb8b8e63eda"
      },
      "id": "0exxDQ_Mz7y1",
      "execution_count": 326,
      "outputs": [
        {
          "output_type": "stream",
          "name": "stdout",
          "text": [
            "Before balancing: (197601, 26)\n",
            "After balancing: (314520, 26)\n",
            "service_duration\n",
            "False    189435\n",
            "True     125085\n",
            "Name: count, dtype: int64\n"
          ]
        }
      ]
    },
    {
      "cell_type": "code",
      "execution_count": 327,
      "id": "9620e24f",
      "metadata": {
        "id": "9620e24f"
      },
      "outputs": [],
      "source": [
        "# Define features (X) and target (y)\n",
        "\n",
        "feature_cols = ['task_id_encoded', 'appointment_year', 'appointment_month', 'appointment_day','appointment_hour', 'appointment_minute' ]\n",
        "\n",
        "X = df_balanced[feature_cols]\n",
        "y = df_balanced['service_duration']   # Target variable\n",
        "\n",
        "#'is_weekend', 'appointment_hour', 'is_peak_hour',\n",
        " #   'num_documents', 'queue_number'"
      ]
    },
    {
      "cell_type": "code",
      "execution_count": 328,
      "id": "0c05c944",
      "metadata": {
        "id": "0c05c944",
        "colab": {
          "base_uri": "https://localhost:8080/"
        },
        "outputId": "32c06711-1b83-42a4-f705-a4f89f406d2e"
      },
      "outputs": [
        {
          "output_type": "stream",
          "name": "stdout",
          "text": [
            "\n",
            "Columns used for features:\n",
            "['task_id_encoded', 'appointment_year', 'appointment_month', 'appointment_day', 'appointment_hour', 'appointment_minute']\n"
          ]
        }
      ],
      "source": [
        "print(\"\\nColumns used for features:\")\n",
        "print(feature_cols)"
      ]
    },
    {
      "cell_type": "code",
      "execution_count": 329,
      "id": "2f34a6e8",
      "metadata": {
        "id": "2f34a6e8",
        "colab": {
          "base_uri": "https://localhost:8080/"
        },
        "outputId": "2fc63d22-975d-4463-9ca6-9ec72c78b004"
      },
      "outputs": [
        {
          "output_type": "stream",
          "name": "stdout",
          "text": [
            "\n",
            "Target column stats:\n",
            "count    314520.000000\n",
            "mean         86.123217\n",
            "std          53.017210\n",
            "min           5.922487\n",
            "25%          38.003510\n",
            "50%          64.803663\n",
            "75%         138.070160\n",
            "max         217.635393\n",
            "Name: service_duration, dtype: float64\n"
          ]
        }
      ],
      "source": [
        "print(\"\\nTarget column stats:\")\n",
        "print(y.describe())"
      ]
    },
    {
      "cell_type": "code",
      "execution_count": 330,
      "id": "c3974469",
      "metadata": {
        "id": "c3974469"
      },
      "outputs": [],
      "source": [
        "#Train/Test Split\n",
        "\n",
        "X_train, X_test, y_train, y_test = train_test_split(\n",
        "    X, y, test_size=0.2, random_state=42\n",
        ")"
      ]
    },
    {
      "cell_type": "code",
      "execution_count": 331,
      "id": "bf07f3d3",
      "metadata": {
        "id": "bf07f3d3",
        "colab": {
          "base_uri": "https://localhost:8080/"
        },
        "outputId": "f083f31c-551c-41e9-ede9-4f59fac62157"
      },
      "outputs": [
        {
          "output_type": "stream",
          "name": "stdout",
          "text": [
            "Training set shape: (251616, 6) (251616,)\n",
            "Test set shape: (62904, 6) (62904,)\n"
          ]
        }
      ],
      "source": [
        "print(\"Training set shape:\", X_train.shape, y_train.shape)\n",
        "print(\"Test set shape:\", X_test.shape, y_test.shape)"
      ]
    },
    {
      "cell_type": "code",
      "execution_count": 332,
      "id": "16191f4a",
      "metadata": {
        "id": "16191f4a",
        "collapsed": true
      },
      "outputs": [],
      "source": [
        "# Initialize XGBoost Model\n",
        "\n",
        "xgb_model = XGBRegressor(\n",
        "    n_estimators=50000,       # number of boosting rounds (trees) +\n",
        "    learning_rate=0.09,     # step size shrinkage\n",
        "    max_depth=9,            # maximum tree depth +\n",
        "    subsample=0.8,          # row sampling\n",
        "    colsample_bytree=0.8,   # feature sampling\n",
        "    min_child_weight = 1,   # +\n",
        "    random_state=42,\n",
        "    n_jobs=-1\n",
        ")\n"
      ]
    },
    {
      "cell_type": "code",
      "source": [
        "import numpy as np\n",
        "\n",
        "# Transform target\n",
        "y_train_log = np.log1p(y_train)  # log(1 + y)\n",
        "\n",
        "# Train model on transformed target\n",
        "xgb_model.fit(X_train, y_train_log)\n",
        "\n",
        "# Inverse transform predictions\n",
        "y_pred_log = xgb_model.predict(X_test)\n",
        "y_pred = np.expm1(y_pred_log)\n"
      ],
      "metadata": {
        "collapsed": true,
        "id": "5BTHKO9Rpv7y"
      },
      "id": "5BTHKO9Rpv7y",
      "execution_count": null,
      "outputs": []
    },
    {
      "cell_type": "code",
      "execution_count": 333,
      "id": "8e627d16",
      "metadata": {
        "id": "8e627d16",
        "colab": {
          "base_uri": "https://localhost:8080/",
          "height": 253
        },
        "outputId": "80167d8c-089e-4354-d7bb-4d0ec09b45f8"
      },
      "outputs": [
        {
          "output_type": "execute_result",
          "data": {
            "text/plain": [
              "XGBRegressor(base_score=None, booster=None, callbacks=None,\n",
              "             colsample_bylevel=None, colsample_bynode=None,\n",
              "             colsample_bytree=0.8, device=None, early_stopping_rounds=None,\n",
              "             enable_categorical=False, eval_metric=None, feature_types=None,\n",
              "             feature_weights=None, gamma=None, grow_policy=None,\n",
              "             importance_type=None, interaction_constraints=None,\n",
              "             learning_rate=0.09, max_bin=None, max_cat_threshold=None,\n",
              "             max_cat_to_onehot=None, max_delta_step=None, max_depth=9,\n",
              "             max_leaves=None, min_child_weight=1, missing=nan,\n",
              "             monotone_constraints=None, multi_strategy=None, n_estimators=50000,\n",
              "             n_jobs=-1, num_parallel_tree=None, ...)"
            ],
            "text/html": [
              "<style>#sk-container-id-17 {\n",
              "  /* Definition of color scheme common for light and dark mode */\n",
              "  --sklearn-color-text: #000;\n",
              "  --sklearn-color-text-muted: #666;\n",
              "  --sklearn-color-line: gray;\n",
              "  /* Definition of color scheme for unfitted estimators */\n",
              "  --sklearn-color-unfitted-level-0: #fff5e6;\n",
              "  --sklearn-color-unfitted-level-1: #f6e4d2;\n",
              "  --sklearn-color-unfitted-level-2: #ffe0b3;\n",
              "  --sklearn-color-unfitted-level-3: chocolate;\n",
              "  /* Definition of color scheme for fitted estimators */\n",
              "  --sklearn-color-fitted-level-0: #f0f8ff;\n",
              "  --sklearn-color-fitted-level-1: #d4ebff;\n",
              "  --sklearn-color-fitted-level-2: #b3dbfd;\n",
              "  --sklearn-color-fitted-level-3: cornflowerblue;\n",
              "\n",
              "  /* Specific color for light theme */\n",
              "  --sklearn-color-text-on-default-background: var(--sg-text-color, var(--theme-code-foreground, var(--jp-content-font-color1, black)));\n",
              "  --sklearn-color-background: var(--sg-background-color, var(--theme-background, var(--jp-layout-color0, white)));\n",
              "  --sklearn-color-border-box: var(--sg-text-color, var(--theme-code-foreground, var(--jp-content-font-color1, black)));\n",
              "  --sklearn-color-icon: #696969;\n",
              "\n",
              "  @media (prefers-color-scheme: dark) {\n",
              "    /* Redefinition of color scheme for dark theme */\n",
              "    --sklearn-color-text-on-default-background: var(--sg-text-color, var(--theme-code-foreground, var(--jp-content-font-color1, white)));\n",
              "    --sklearn-color-background: var(--sg-background-color, var(--theme-background, var(--jp-layout-color0, #111)));\n",
              "    --sklearn-color-border-box: var(--sg-text-color, var(--theme-code-foreground, var(--jp-content-font-color1, white)));\n",
              "    --sklearn-color-icon: #878787;\n",
              "  }\n",
              "}\n",
              "\n",
              "#sk-container-id-17 {\n",
              "  color: var(--sklearn-color-text);\n",
              "}\n",
              "\n",
              "#sk-container-id-17 pre {\n",
              "  padding: 0;\n",
              "}\n",
              "\n",
              "#sk-container-id-17 input.sk-hidden--visually {\n",
              "  border: 0;\n",
              "  clip: rect(1px 1px 1px 1px);\n",
              "  clip: rect(1px, 1px, 1px, 1px);\n",
              "  height: 1px;\n",
              "  margin: -1px;\n",
              "  overflow: hidden;\n",
              "  padding: 0;\n",
              "  position: absolute;\n",
              "  width: 1px;\n",
              "}\n",
              "\n",
              "#sk-container-id-17 div.sk-dashed-wrapped {\n",
              "  border: 1px dashed var(--sklearn-color-line);\n",
              "  margin: 0 0.4em 0.5em 0.4em;\n",
              "  box-sizing: border-box;\n",
              "  padding-bottom: 0.4em;\n",
              "  background-color: var(--sklearn-color-background);\n",
              "}\n",
              "\n",
              "#sk-container-id-17 div.sk-container {\n",
              "  /* jupyter's `normalize.less` sets `[hidden] { display: none; }`\n",
              "     but bootstrap.min.css set `[hidden] { display: none !important; }`\n",
              "     so we also need the `!important` here to be able to override the\n",
              "     default hidden behavior on the sphinx rendered scikit-learn.org.\n",
              "     See: https://github.com/scikit-learn/scikit-learn/issues/21755 */\n",
              "  display: inline-block !important;\n",
              "  position: relative;\n",
              "}\n",
              "\n",
              "#sk-container-id-17 div.sk-text-repr-fallback {\n",
              "  display: none;\n",
              "}\n",
              "\n",
              "div.sk-parallel-item,\n",
              "div.sk-serial,\n",
              "div.sk-item {\n",
              "  /* draw centered vertical line to link estimators */\n",
              "  background-image: linear-gradient(var(--sklearn-color-text-on-default-background), var(--sklearn-color-text-on-default-background));\n",
              "  background-size: 2px 100%;\n",
              "  background-repeat: no-repeat;\n",
              "  background-position: center center;\n",
              "}\n",
              "\n",
              "/* Parallel-specific style estimator block */\n",
              "\n",
              "#sk-container-id-17 div.sk-parallel-item::after {\n",
              "  content: \"\";\n",
              "  width: 100%;\n",
              "  border-bottom: 2px solid var(--sklearn-color-text-on-default-background);\n",
              "  flex-grow: 1;\n",
              "}\n",
              "\n",
              "#sk-container-id-17 div.sk-parallel {\n",
              "  display: flex;\n",
              "  align-items: stretch;\n",
              "  justify-content: center;\n",
              "  background-color: var(--sklearn-color-background);\n",
              "  position: relative;\n",
              "}\n",
              "\n",
              "#sk-container-id-17 div.sk-parallel-item {\n",
              "  display: flex;\n",
              "  flex-direction: column;\n",
              "}\n",
              "\n",
              "#sk-container-id-17 div.sk-parallel-item:first-child::after {\n",
              "  align-self: flex-end;\n",
              "  width: 50%;\n",
              "}\n",
              "\n",
              "#sk-container-id-17 div.sk-parallel-item:last-child::after {\n",
              "  align-self: flex-start;\n",
              "  width: 50%;\n",
              "}\n",
              "\n",
              "#sk-container-id-17 div.sk-parallel-item:only-child::after {\n",
              "  width: 0;\n",
              "}\n",
              "\n",
              "/* Serial-specific style estimator block */\n",
              "\n",
              "#sk-container-id-17 div.sk-serial {\n",
              "  display: flex;\n",
              "  flex-direction: column;\n",
              "  align-items: center;\n",
              "  background-color: var(--sklearn-color-background);\n",
              "  padding-right: 1em;\n",
              "  padding-left: 1em;\n",
              "}\n",
              "\n",
              "\n",
              "/* Toggleable style: style used for estimator/Pipeline/ColumnTransformer box that is\n",
              "clickable and can be expanded/collapsed.\n",
              "- Pipeline and ColumnTransformer use this feature and define the default style\n",
              "- Estimators will overwrite some part of the style using the `sk-estimator` class\n",
              "*/\n",
              "\n",
              "/* Pipeline and ColumnTransformer style (default) */\n",
              "\n",
              "#sk-container-id-17 div.sk-toggleable {\n",
              "  /* Default theme specific background. It is overwritten whether we have a\n",
              "  specific estimator or a Pipeline/ColumnTransformer */\n",
              "  background-color: var(--sklearn-color-background);\n",
              "}\n",
              "\n",
              "/* Toggleable label */\n",
              "#sk-container-id-17 label.sk-toggleable__label {\n",
              "  cursor: pointer;\n",
              "  display: flex;\n",
              "  width: 100%;\n",
              "  margin-bottom: 0;\n",
              "  padding: 0.5em;\n",
              "  box-sizing: border-box;\n",
              "  text-align: center;\n",
              "  align-items: start;\n",
              "  justify-content: space-between;\n",
              "  gap: 0.5em;\n",
              "}\n",
              "\n",
              "#sk-container-id-17 label.sk-toggleable__label .caption {\n",
              "  font-size: 0.6rem;\n",
              "  font-weight: lighter;\n",
              "  color: var(--sklearn-color-text-muted);\n",
              "}\n",
              "\n",
              "#sk-container-id-17 label.sk-toggleable__label-arrow:before {\n",
              "  /* Arrow on the left of the label */\n",
              "  content: \"▸\";\n",
              "  float: left;\n",
              "  margin-right: 0.25em;\n",
              "  color: var(--sklearn-color-icon);\n",
              "}\n",
              "\n",
              "#sk-container-id-17 label.sk-toggleable__label-arrow:hover:before {\n",
              "  color: var(--sklearn-color-text);\n",
              "}\n",
              "\n",
              "/* Toggleable content - dropdown */\n",
              "\n",
              "#sk-container-id-17 div.sk-toggleable__content {\n",
              "  max-height: 0;\n",
              "  max-width: 0;\n",
              "  overflow: hidden;\n",
              "  text-align: left;\n",
              "  /* unfitted */\n",
              "  background-color: var(--sklearn-color-unfitted-level-0);\n",
              "}\n",
              "\n",
              "#sk-container-id-17 div.sk-toggleable__content.fitted {\n",
              "  /* fitted */\n",
              "  background-color: var(--sklearn-color-fitted-level-0);\n",
              "}\n",
              "\n",
              "#sk-container-id-17 div.sk-toggleable__content pre {\n",
              "  margin: 0.2em;\n",
              "  border-radius: 0.25em;\n",
              "  color: var(--sklearn-color-text);\n",
              "  /* unfitted */\n",
              "  background-color: var(--sklearn-color-unfitted-level-0);\n",
              "}\n",
              "\n",
              "#sk-container-id-17 div.sk-toggleable__content.fitted pre {\n",
              "  /* unfitted */\n",
              "  background-color: var(--sklearn-color-fitted-level-0);\n",
              "}\n",
              "\n",
              "#sk-container-id-17 input.sk-toggleable__control:checked~div.sk-toggleable__content {\n",
              "  /* Expand drop-down */\n",
              "  max-height: 200px;\n",
              "  max-width: 100%;\n",
              "  overflow: auto;\n",
              "}\n",
              "\n",
              "#sk-container-id-17 input.sk-toggleable__control:checked~label.sk-toggleable__label-arrow:before {\n",
              "  content: \"▾\";\n",
              "}\n",
              "\n",
              "/* Pipeline/ColumnTransformer-specific style */\n",
              "\n",
              "#sk-container-id-17 div.sk-label input.sk-toggleable__control:checked~label.sk-toggleable__label {\n",
              "  color: var(--sklearn-color-text);\n",
              "  background-color: var(--sklearn-color-unfitted-level-2);\n",
              "}\n",
              "\n",
              "#sk-container-id-17 div.sk-label.fitted input.sk-toggleable__control:checked~label.sk-toggleable__label {\n",
              "  background-color: var(--sklearn-color-fitted-level-2);\n",
              "}\n",
              "\n",
              "/* Estimator-specific style */\n",
              "\n",
              "/* Colorize estimator box */\n",
              "#sk-container-id-17 div.sk-estimator input.sk-toggleable__control:checked~label.sk-toggleable__label {\n",
              "  /* unfitted */\n",
              "  background-color: var(--sklearn-color-unfitted-level-2);\n",
              "}\n",
              "\n",
              "#sk-container-id-17 div.sk-estimator.fitted input.sk-toggleable__control:checked~label.sk-toggleable__label {\n",
              "  /* fitted */\n",
              "  background-color: var(--sklearn-color-fitted-level-2);\n",
              "}\n",
              "\n",
              "#sk-container-id-17 div.sk-label label.sk-toggleable__label,\n",
              "#sk-container-id-17 div.sk-label label {\n",
              "  /* The background is the default theme color */\n",
              "  color: var(--sklearn-color-text-on-default-background);\n",
              "}\n",
              "\n",
              "/* On hover, darken the color of the background */\n",
              "#sk-container-id-17 div.sk-label:hover label.sk-toggleable__label {\n",
              "  color: var(--sklearn-color-text);\n",
              "  background-color: var(--sklearn-color-unfitted-level-2);\n",
              "}\n",
              "\n",
              "/* Label box, darken color on hover, fitted */\n",
              "#sk-container-id-17 div.sk-label.fitted:hover label.sk-toggleable__label.fitted {\n",
              "  color: var(--sklearn-color-text);\n",
              "  background-color: var(--sklearn-color-fitted-level-2);\n",
              "}\n",
              "\n",
              "/* Estimator label */\n",
              "\n",
              "#sk-container-id-17 div.sk-label label {\n",
              "  font-family: monospace;\n",
              "  font-weight: bold;\n",
              "  display: inline-block;\n",
              "  line-height: 1.2em;\n",
              "}\n",
              "\n",
              "#sk-container-id-17 div.sk-label-container {\n",
              "  text-align: center;\n",
              "}\n",
              "\n",
              "/* Estimator-specific */\n",
              "#sk-container-id-17 div.sk-estimator {\n",
              "  font-family: monospace;\n",
              "  border: 1px dotted var(--sklearn-color-border-box);\n",
              "  border-radius: 0.25em;\n",
              "  box-sizing: border-box;\n",
              "  margin-bottom: 0.5em;\n",
              "  /* unfitted */\n",
              "  background-color: var(--sklearn-color-unfitted-level-0);\n",
              "}\n",
              "\n",
              "#sk-container-id-17 div.sk-estimator.fitted {\n",
              "  /* fitted */\n",
              "  background-color: var(--sklearn-color-fitted-level-0);\n",
              "}\n",
              "\n",
              "/* on hover */\n",
              "#sk-container-id-17 div.sk-estimator:hover {\n",
              "  /* unfitted */\n",
              "  background-color: var(--sklearn-color-unfitted-level-2);\n",
              "}\n",
              "\n",
              "#sk-container-id-17 div.sk-estimator.fitted:hover {\n",
              "  /* fitted */\n",
              "  background-color: var(--sklearn-color-fitted-level-2);\n",
              "}\n",
              "\n",
              "/* Specification for estimator info (e.g. \"i\" and \"?\") */\n",
              "\n",
              "/* Common style for \"i\" and \"?\" */\n",
              "\n",
              ".sk-estimator-doc-link,\n",
              "a:link.sk-estimator-doc-link,\n",
              "a:visited.sk-estimator-doc-link {\n",
              "  float: right;\n",
              "  font-size: smaller;\n",
              "  line-height: 1em;\n",
              "  font-family: monospace;\n",
              "  background-color: var(--sklearn-color-background);\n",
              "  border-radius: 1em;\n",
              "  height: 1em;\n",
              "  width: 1em;\n",
              "  text-decoration: none !important;\n",
              "  margin-left: 0.5em;\n",
              "  text-align: center;\n",
              "  /* unfitted */\n",
              "  border: var(--sklearn-color-unfitted-level-1) 1pt solid;\n",
              "  color: var(--sklearn-color-unfitted-level-1);\n",
              "}\n",
              "\n",
              ".sk-estimator-doc-link.fitted,\n",
              "a:link.sk-estimator-doc-link.fitted,\n",
              "a:visited.sk-estimator-doc-link.fitted {\n",
              "  /* fitted */\n",
              "  border: var(--sklearn-color-fitted-level-1) 1pt solid;\n",
              "  color: var(--sklearn-color-fitted-level-1);\n",
              "}\n",
              "\n",
              "/* On hover */\n",
              "div.sk-estimator:hover .sk-estimator-doc-link:hover,\n",
              ".sk-estimator-doc-link:hover,\n",
              "div.sk-label-container:hover .sk-estimator-doc-link:hover,\n",
              ".sk-estimator-doc-link:hover {\n",
              "  /* unfitted */\n",
              "  background-color: var(--sklearn-color-unfitted-level-3);\n",
              "  color: var(--sklearn-color-background);\n",
              "  text-decoration: none;\n",
              "}\n",
              "\n",
              "div.sk-estimator.fitted:hover .sk-estimator-doc-link.fitted:hover,\n",
              ".sk-estimator-doc-link.fitted:hover,\n",
              "div.sk-label-container:hover .sk-estimator-doc-link.fitted:hover,\n",
              ".sk-estimator-doc-link.fitted:hover {\n",
              "  /* fitted */\n",
              "  background-color: var(--sklearn-color-fitted-level-3);\n",
              "  color: var(--sklearn-color-background);\n",
              "  text-decoration: none;\n",
              "}\n",
              "\n",
              "/* Span, style for the box shown on hovering the info icon */\n",
              ".sk-estimator-doc-link span {\n",
              "  display: none;\n",
              "  z-index: 9999;\n",
              "  position: relative;\n",
              "  font-weight: normal;\n",
              "  right: .2ex;\n",
              "  padding: .5ex;\n",
              "  margin: .5ex;\n",
              "  width: min-content;\n",
              "  min-width: 20ex;\n",
              "  max-width: 50ex;\n",
              "  color: var(--sklearn-color-text);\n",
              "  box-shadow: 2pt 2pt 4pt #999;\n",
              "  /* unfitted */\n",
              "  background: var(--sklearn-color-unfitted-level-0);\n",
              "  border: .5pt solid var(--sklearn-color-unfitted-level-3);\n",
              "}\n",
              "\n",
              ".sk-estimator-doc-link.fitted span {\n",
              "  /* fitted */\n",
              "  background: var(--sklearn-color-fitted-level-0);\n",
              "  border: var(--sklearn-color-fitted-level-3);\n",
              "}\n",
              "\n",
              ".sk-estimator-doc-link:hover span {\n",
              "  display: block;\n",
              "}\n",
              "\n",
              "/* \"?\"-specific style due to the `<a>` HTML tag */\n",
              "\n",
              "#sk-container-id-17 a.estimator_doc_link {\n",
              "  float: right;\n",
              "  font-size: 1rem;\n",
              "  line-height: 1em;\n",
              "  font-family: monospace;\n",
              "  background-color: var(--sklearn-color-background);\n",
              "  border-radius: 1rem;\n",
              "  height: 1rem;\n",
              "  width: 1rem;\n",
              "  text-decoration: none;\n",
              "  /* unfitted */\n",
              "  color: var(--sklearn-color-unfitted-level-1);\n",
              "  border: var(--sklearn-color-unfitted-level-1) 1pt solid;\n",
              "}\n",
              "\n",
              "#sk-container-id-17 a.estimator_doc_link.fitted {\n",
              "  /* fitted */\n",
              "  border: var(--sklearn-color-fitted-level-1) 1pt solid;\n",
              "  color: var(--sklearn-color-fitted-level-1);\n",
              "}\n",
              "\n",
              "/* On hover */\n",
              "#sk-container-id-17 a.estimator_doc_link:hover {\n",
              "  /* unfitted */\n",
              "  background-color: var(--sklearn-color-unfitted-level-3);\n",
              "  color: var(--sklearn-color-background);\n",
              "  text-decoration: none;\n",
              "}\n",
              "\n",
              "#sk-container-id-17 a.estimator_doc_link.fitted:hover {\n",
              "  /* fitted */\n",
              "  background-color: var(--sklearn-color-fitted-level-3);\n",
              "}\n",
              "</style><div id=\"sk-container-id-17\" class=\"sk-top-container\"><div class=\"sk-text-repr-fallback\"><pre>XGBRegressor(base_score=None, booster=None, callbacks=None,\n",
              "             colsample_bylevel=None, colsample_bynode=None,\n",
              "             colsample_bytree=0.8, device=None, early_stopping_rounds=None,\n",
              "             enable_categorical=False, eval_metric=None, feature_types=None,\n",
              "             feature_weights=None, gamma=None, grow_policy=None,\n",
              "             importance_type=None, interaction_constraints=None,\n",
              "             learning_rate=0.09, max_bin=None, max_cat_threshold=None,\n",
              "             max_cat_to_onehot=None, max_delta_step=None, max_depth=9,\n",
              "             max_leaves=None, min_child_weight=1, missing=nan,\n",
              "             monotone_constraints=None, multi_strategy=None, n_estimators=50000,\n",
              "             n_jobs=-1, num_parallel_tree=None, ...)</pre><b>In a Jupyter environment, please rerun this cell to show the HTML representation or trust the notebook. <br />On GitHub, the HTML representation is unable to render, please try loading this page with nbviewer.org.</b></div><div class=\"sk-container\" hidden><div class=\"sk-item\"><div class=\"sk-estimator fitted sk-toggleable\"><input class=\"sk-toggleable__control sk-hidden--visually\" id=\"sk-estimator-id-17\" type=\"checkbox\" checked><label for=\"sk-estimator-id-17\" class=\"sk-toggleable__label fitted sk-toggleable__label-arrow\"><div><div>XGBRegressor</div></div><div><a class=\"sk-estimator-doc-link fitted\" rel=\"noreferrer\" target=\"_blank\" href=\"https://xgboost.readthedocs.io/en/release_3.0.0/python/python_api.html#xgboost.XGBRegressor\">?<span>Documentation for XGBRegressor</span></a><span class=\"sk-estimator-doc-link fitted\">i<span>Fitted</span></span></div></label><div class=\"sk-toggleable__content fitted\"><pre>XGBRegressor(base_score=None, booster=None, callbacks=None,\n",
              "             colsample_bylevel=None, colsample_bynode=None,\n",
              "             colsample_bytree=0.8, device=None, early_stopping_rounds=None,\n",
              "             enable_categorical=False, eval_metric=None, feature_types=None,\n",
              "             feature_weights=None, gamma=None, grow_policy=None,\n",
              "             importance_type=None, interaction_constraints=None,\n",
              "             learning_rate=0.09, max_bin=None, max_cat_threshold=None,\n",
              "             max_cat_to_onehot=None, max_delta_step=None, max_depth=9,\n",
              "             max_leaves=None, min_child_weight=1, missing=nan,\n",
              "             monotone_constraints=None, multi_strategy=None, n_estimators=50000,\n",
              "             n_jobs=-1, num_parallel_tree=None, ...)</pre></div> </div></div></div></div>"
            ]
          },
          "metadata": {},
          "execution_count": 333
        }
      ],
      "source": [
        "#Train the model\n",
        "\n",
        "xgb_model.fit(X_train, y_train)"
      ]
    },
    {
      "cell_type": "code",
      "execution_count": 334,
      "id": "0525c8d4",
      "metadata": {
        "id": "0525c8d4"
      },
      "outputs": [],
      "source": [
        "#Make Predictions from test dataset\n",
        "\n",
        "y_pred = xgb_model.predict(X_test)"
      ]
    },
    {
      "cell_type": "code",
      "execution_count": 335,
      "id": "807c56e3",
      "metadata": {
        "id": "807c56e3",
        "colab": {
          "base_uri": "https://localhost:8080/"
        },
        "outputId": "24284ec9-43bb-4f65-8dd6-52c5332b54be"
      },
      "outputs": [
        {
          "output_type": "stream",
          "name": "stdout",
          "text": [
            "First 10 predictions vs actual values:\n",
            "       Actual   Predicted\n",
            "0  157.365324  137.225525\n",
            "1   96.033877   85.933006\n",
            "2  171.952297  166.335526\n",
            "3  180.000000  157.009125\n",
            "4   57.809799   76.466393\n",
            "5  141.704173  132.416306\n",
            "6  143.236600  140.638840\n",
            "7   37.548602   38.767239\n",
            "8   23.531252   33.520100\n",
            "9   27.837118   41.964146\n"
          ]
        }
      ],
      "source": [
        "print(\"First 10 predictions vs actual values:\")\n",
        "results = pd.DataFrame({\n",
        "    \"Actual\": y_test.iloc[:10].values,\n",
        "    \"Predicted\": y_pred[:10]\n",
        "})\n",
        "print(results)\n"
      ]
    },
    {
      "cell_type": "code",
      "execution_count": 336,
      "id": "1be08d44",
      "metadata": {
        "id": "1be08d44",
        "colab": {
          "base_uri": "https://localhost:8080/",
          "height": 487
        },
        "outputId": "34db0f80-570e-4c6d-bdf8-487014b2a628"
      },
      "outputs": [
        {
          "output_type": "display_data",
          "data": {
            "text/plain": [
              "<Figure size 800x500 with 1 Axes>"
            ],
            "image/png": "[encoded data removed]"
          },
          "metadata": {}
        }
      ],
      "source": [
        "plt.figure(figsize=(8,5))\n",
        "plt.scatter(y_test, y_pred, alpha=0.3)\n",
        "plt.plot([y_test.min(), y_test.max()], [y_test.min(), y_test.max()], color=\"red\", linewidth=2)\n",
        "plt.xlabel(\"Actual Service Duration (minutes)\")\n",
        "plt.ylabel(\"Predicted Service Duration (minutes)\")\n",
        "plt.title(\"Predicted vs Actual Service Duration\")\n",
        "plt.show()\n"
      ]
    },
    {
      "cell_type": "markdown",
      "id": "7aa55f00",
      "metadata": {
        "id": "7aa55f00"
      },
      "source": [
        "# **Model Evaluation** #"
      ]
    },
    {
      "cell_type": "code",
      "source": [
        "r2 = r2_score(y_test, y_pred)"
      ],
      "metadata": {
        "id": "H5DjPunofJSR"
      },
      "id": "H5DjPunofJSR",
      "execution_count": 337,
      "outputs": []
    },
    {
      "cell_type": "code",
      "execution_count": 338,
      "id": "d8d3f8bc",
      "metadata": {
        "id": "d8d3f8bc",
        "colab": {
          "base_uri": "https://localhost:8080/"
        },
        "outputId": "ce4d4329-51aa-4ee9-d6b0-8fe09190eb26"
      },
      "outputs": [
        {
          "output_type": "stream",
          "name": "stdout",
          "text": [
            "Model Performance on Test Data:\n",
            "R² Score: 0.8605\n"
          ]
        }
      ],
      "source": [
        "print(\"Model Performance on Test Data:\")\n",
        "#print(f\"RMSE: {rmse:.2f} minutes\")\n",
        "#print(f\"MAE: {mae:.2f} minutes\")\n",
        "print(f\"R² Score: {r2:.4f}\")"
      ]
    },
    {
      "cell_type": "code",
      "source": [
        "# Count rows greater than 100\n",
        "greater_100 = df[df['service_duration'] > 100].shape[0]\n",
        "\n",
        "# Count rows less than or equal to 100\n",
        "less_equal_100 = df[df['service_duration'] <= 100].shape[0]\n",
        "\n",
        "print(f\"Rows with service_duration > 100: {greater_100}\")\n",
        "print(f\"Rows with service_duration <= 100: {less_equal_100}\")\n",
        "\n",
        "# Create a simple bar chart\n",
        "counts = pd.Series({\n",
        "    'Greater than 100': greater_100,\n",
        "    'Less or Equal to 100': less_equal_100\n",
        "})\n",
        "\n",
        "counts.plot(kind='bar', rot=0)\n",
        "plt.title(\"Service Duration Distribution (>100 vs <=100)\")\n",
        "plt.ylabel(\"Number of Rows\")\n",
        "plt.show()"
      ],
      "metadata": {
        "colab": {
          "base_uri": "https://localhost:8080/",
          "height": 487
        },
        "id": "4M0oTiNZuGHs",
        "outputId": "d8dd761b-0ef2-4a98-9c7d-1c1b8062c653"
      },
      "id": "4M0oTiNZuGHs",
      "execution_count": 257,
      "outputs": [
        {
          "output_type": "stream",
          "name": "stdout",
          "text": [
            "Rows with service_duration > 100: 8166\n",
            "Rows with service_duration <= 100: 189435\n"
          ]
        },
        {
          "output_type": "display_data",
          "data": {
            "text/plain": [
              "<Figure size 640x480 with 1 Axes>"
            ],
            "image/png": "[encoded data removed]"
          },
          "metadata": {}
        }
      ]
    }
  ],
  "metadata": {
    "kernelspec": {
      "display_name": "Python 3",
      "language": "python",
      "name": "python3"
    },
    "language_info": {
      "codemirror_mode": {
        "name": "ipython",
        "version": 3
      },
      "file_extension": ".py",
      "mimetype": "text/x-python",
      "name": "python",
      "nbconvert_exporter": "python",
      "pygments_lexer": "ipython3",
      "version": "3.12.1"
    },
    "colab": {
      "provenance": [],
      "toc_visible": true
    }
  },
  "nbformat": 4,
  "nbformat_minor": 5
}