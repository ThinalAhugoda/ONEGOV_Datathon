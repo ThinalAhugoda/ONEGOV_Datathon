{
 "cells": [
  {
   "cell_type": "markdown",
   "id": "2a9a8360",
   "metadata": {},
   "source": [
    "# **Libraries and dependencies**"
   ]
  },
  {
   "cell_type": "code",
   "execution_count": 1,
   "id": "906450ae",
   "metadata": {},
   "outputs": [],
   "source": [
    "#Import all dependencies\n",
    "import pandas as pd\n",
    "from sklearn.preprocessing import LabelEncoder\n",
    "from sklearn.model_selection import train_test_split\n",
    "from sklearn.metrics import mean_absolute_error\n",
    "import xgboost as xgb"
   ]
  },
  {
   "cell_type": "markdown",
   "id": "0a56b64f",
   "metadata": {},
   "source": [
    "# **Loading the Data set Explotary Data Analysis / Data cleaning**"
   ]
  },
  {
   "cell_type": "code",
   "execution_count": 19,
   "id": "c7f9bc15",
   "metadata": {},
   "outputs": [
    {
     "name": "stdout",
     "output_type": "stream",
     "text": [
      "         date section_id  employees_on_duty  total_task_time_minutes\n",
      "0  2021-01-01    SEC-001                  1               834.569483\n",
      "1  2021-01-01    SEC-002                  4              1525.368990\n",
      "2  2021-01-01    SEC-003                  2               662.095279\n",
      "3  2021-01-01    SEC-004                  4              1499.112620\n",
      "4  2021-01-01    SEC-005                  3              1238.533073\n",
      "       employees_on_duty  total_task_time_minutes\n",
      "count        5802.000000              5802.000000\n",
      "mean            4.458807              1662.296769\n",
      "std             2.794417              1147.134643\n",
      "min             1.000000                91.109596\n",
      "25%             3.000000               859.104314\n",
      "50%             4.000000              1358.176924\n",
      "75%             6.000000              2123.936358\n",
      "max            26.000000             10658.173092\n",
      "date                       0\n",
      "section_id                 0\n",
      "employees_on_duty          0\n",
      "total_task_time_minutes    0\n",
      "dtype: int64\n",
      "date                        object\n",
      "section_id                  object\n",
      "employees_on_duty            int64\n",
      "total_task_time_minutes    float64\n",
      "dtype: object\n",
      "['SEC-001' 'SEC-002' 'SEC-003' 'SEC-004' 'SEC-005' 'SEC-006']\n"
     ]
    },
    {
     "name": "stderr",
     "output_type": "stream",
     "text": [
      "<>:2: SyntaxWarning: invalid escape sequence '\\s'\n",
      "<>:2: SyntaxWarning: invalid escape sequence '\\s'\n",
      "C:\\Users\\HP\\AppData\\Local\\Temp\\ipykernel_13764\\765780708.py:2: SyntaxWarning: invalid escape sequence '\\s'\n",
      "  df = pd.read_csv(\"Data\\staffing_train.csv\",)\n"
     ]
    }
   ],
   "source": [
    "#Loadin the Dataset from the .CSV file using Pandas\n",
    "df = pd.read_csv(\"Data\\staffing_train.csv\",)\n",
    "\n",
    "#Show the first five rows\n",
    "print(df.head())\n",
    "\n",
    "# Summary stats\n",
    "print(df.describe())\n",
    "\n",
    "# Check nulls\n",
    "print(df.isnull().sum())\n",
    "\n",
    "# Data types\n",
    "print(df.dtypes)\n",
    "\n",
    "#Drop duplicate values\n",
    "df = df.drop_duplicates()\n",
    "\n",
    "# Unique values in categorical fields\n",
    "print(df['section_id'].unique())"
   ]
  },
  {
   "cell_type": "markdown",
   "id": "1b8353d7",
   "metadata": {},
   "source": [
    "#  **Feature Engeneering**"
   ]
  },
  {
   "cell_type": "code",
   "execution_count": 22,
   "id": "897d3e1c",
   "metadata": {},
   "outputs": [
    {
     "name": "stdout",
     "output_type": "stream",
     "text": [
      "Lable: [['SEC-001', 1, 834.5694834000001], ['SEC-002', 4, 1525.3689896166666], ['SEC-003', 2, 662.0952785333334], ['SEC-004', 4, 1499.1126195333334], ['SEC-005', 3, 1238.5330730833332]]\n",
      "Date: ['2021-01-01', '2021-01-01', '2021-01-01', '2021-01-01', '2021-01-01']\n"
     ]
    }
   ],
   "source": [
    "# -------------------\n",
    "# Feature selection\n",
    "# -------------------\n",
    "# Date date variable\n",
    "# Define Lable and Date\n",
    "Lable = []# list where we store lables\n",
    "Date = []# list where we store The date\n",
    "\n",
    "df['date'] = pd.to_datetime(df['date'])\n",
    "# Loop through rows\n",
    "for _, row in df.iterrows():\n",
    "    # Add features (Lable)\n",
    "    Lable.append([\n",
    "        row[\"section_id\"],\n",
    "        row[\"employees_on_duty\"],\n",
    "        row[\"total_task_time_minutes\"]\n",
    "    ])\n",
    "    date_str = row['date'].strftime('%Y-%m-%d')\n",
    "    #Append the Date into a nested listed as a string\n",
    "    Date.append(date_str)\n",
    "    \n",
    "\n",
    "# Now Lable and Date are nested lists\n",
    "print(\"Lable:\", Lable[:5])  # first 5 rows for preview\n",
    "print(\"Date:\", Date[:5])\n",
    "\n",
    "#Use a for loop add each row data into 2 list which is connected by their indexes\n",
    "\n"
   ]
  },
  {
   "cell_type": "code",
   "execution_count": null,
   "id": "21fe59d5",
   "metadata": {},
   "outputs": [],
   "source": []
  }
 ],
 "metadata": {
  "kernelspec": {
   "display_name": "Python 3",
   "language": "python",
   "name": "python3"
  },
  "language_info": {
   "codemirror_mode": {
    "name": "ipython",
    "version": 3
   },
   "file_extension": ".py",
   "mimetype": "text/x-python",
   "name": "python",
   "nbconvert_exporter": "python",
   "pygments_lexer": "ipython3",
   "version": "3.13.6"
  }
 },
 "nbformat": 4,
 "nbformat_minor": 5
}
