{
 "cells": [
  {
   "cell_type": "markdown",
   "id": "2a9a8360",
   "metadata": {},
   "source": [
    "# **Libraries and dependencies**"
   ]
  },
  {
   "cell_type": "code",
   "execution_count": 1,
   "id": "906450ae",
   "metadata": {},
   "outputs": [],
   "source": [
    "#Import all dependencies\n",
    "import pandas as pd\n",
    "from sklearn.preprocessing import LabelEncoder\n",
    "from sklearn.model_selection import train_test_split\n",
    "from sklearn.metrics import mean_absolute_error\n",
    "import xgboost as xgb"
   ]
  },
  {
   "cell_type": "markdown",
   "id": "0a56b64f",
   "metadata": {},
   "source": [
    "# **Loading the Data set**"
   ]
  },
  {
   "cell_type": "code",
   "execution_count": null,
   "id": "c7f9bc15",
   "metadata": {},
   "outputs": [
    {
     "name": "stdout",
     "output_type": "stream",
     "text": [
      "         date section_id  employees_on_duty  total_task_time_minutes\n",
      "0  2021-01-01    SEC-001                  1               834.569483\n",
      "1  2021-01-01    SEC-002                  4              1525.368990\n",
      "2  2021-01-01    SEC-003                  2               662.095279\n",
      "3  2021-01-01    SEC-004                  4              1499.112620\n",
      "4  2021-01-01    SEC-005                  3              1238.533073\n"
     ]
    },
    {
     "name": "stderr",
     "output_type": "stream",
     "text": [
      "<>:3: SyntaxWarning: invalid escape sequence '\\s'\n",
      "<>:3: SyntaxWarning: invalid escape sequence '\\s'\n",
      "C:\\Users\\HP\\AppData\\Local\\Temp\\ipykernel_13764\\3746519819.py:3: SyntaxWarning: invalid escape sequence '\\s'\n",
      "  \"Data\\staffing_train.csv\",\n"
     ]
    }
   ],
   "source": [
    "#Loadin the Dataset from the .CSV file using Pandas\n",
    "df = pd.read_csv(\"Data\\staffing_train.csv\",)\n",
    "\n",
    "#Show the first five rows\n",
    "print(df.head())"
   ]
  },
  {
   "cell_type": "markdown",
   "id": "1b8353d7",
   "metadata": {},
   "source": [
    "#  **Feature Extraction**"
   ]
  },
  {
   "cell_type": "code",
   "execution_count": 14,
   "id": "897d3e1c",
   "metadata": {},
   "outputs": [
    {
     "name": "stdout",
     "output_type": "stream",
     "text": [
      "Lable: [['SEC-001', 1, 834.5694834000001], ['SEC-002', 4, 1525.3689896166666], ['SEC-003', 2, 662.0952785333334], ['SEC-004', 4, 1499.1126195333334], ['SEC-005', 3, 1238.5330730833332]]\n",
      "Date: ['2021-01-01', '2021-01-01', '2021-01-01', '2021-01-01', '2021-01-01']\n"
     ]
    }
   ],
   "source": [
    "# -------------------\n",
    "# Feature selection\n",
    "# -------------------\n",
    "# Date date variable\n",
    "# Define Lable and Date\n",
    "Lable = []# list where we store lables\n",
    "Date = []# list where we store The date\n",
    "\n",
    "# Loop through rows\n",
    "for _, row in df.iterrows():\n",
    "    # Add features (Lable)\n",
    "    Lable.append([\n",
    "        row[\"section_id\"],\n",
    "        row[\"employees_on_duty\"],\n",
    "        row[\"total_task_time_minutes\"]\n",
    "    ])\n",
    "    date_str = row['date'].strftime('%Y-%m-%d')\n",
    "    #Append the Date into a nested listed as a string\n",
    "    Date.append(date_str)\n",
    "    \n",
    "\n",
    "# Now Lable and Date are nested lists\n",
    "print(\"Lable:\", Lable[:5])  # first 5 rows for preview\n",
    "print(\"Date:\", Date[:5])\n",
    "\n",
    "#Use a for loop add each row data into 2 list which is connected by their indexes\n",
    "\n"
   ]
  }
 ],
 "metadata": {
  "kernelspec": {
   "display_name": "Python 3",
   "language": "python",
   "name": "python3"
  },
  "language_info": {
   "codemirror_mode": {
    "name": "ipython",
    "version": 3
   },
   "file_extension": ".py",
   "mimetype": "text/x-python",
   "name": "python",
   "nbconvert_exporter": "python",
   "pygments_lexer": "ipython3",
   "version": "3.13.6"
  }
 },
 "nbformat": 4,
 "nbformat_minor": 5
}
