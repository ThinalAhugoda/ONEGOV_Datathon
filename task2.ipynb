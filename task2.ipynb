{
 "cells": [
  {
   "cell_type": "markdown",
   "id": "0a56b64f",
   "metadata": {},
   "source": [
    "# **Loading the Data set**"
   ]
  },
  {
   "cell_type": "code",
   "execution_count": null,
   "id": "c7f9bc15",
   "metadata": {
    "vscode": {
     "languageId": "plaintext"
    }
   },
   "outputs": [],
   "source": []
  },
  {
   "cell_type": "markdown",
   "id": "1b8353d7",
   "metadata": {},
   "source": [
    "#  **Preparing the Dataset**"
   ]
  },
  {
   "cell_type": "code",
   "execution_count": null,
   "id": "fa4932db",
   "metadata": {
    "vscode": {
     "languageId": "plaintext"
    }
   },
   "outputs": [],
   "source": []
  },
  {
   "cell_type": "markdown",
   "id": "97c5ed47",
   "metadata": {},
   "source": [
    "# **Data pre-processing**"
   ]
  },
  {
   "cell_type": "code",
   "execution_count": null,
   "id": "b6d15967",
   "metadata": {
    "vscode": {
     "languageId": "plaintext"
    }
   },
   "outputs": [],
   "source": []
  }
 ],
 "metadata": {
  "language_info": {
   "name": "python"
  }
 },
 "nbformat": 4,
 "nbformat_minor": 5
}
