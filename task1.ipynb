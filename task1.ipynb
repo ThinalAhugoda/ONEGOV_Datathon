{
 "cells": [
  {
   "cell_type": "code",
   "execution_count": null,
   "id": "b19c52d3",
   "metadata": {},
   "outputs": [],
   "source": [
    "#import all dependencies\n",
    "import pandas as pd\n",
    "#import numpy as np\n",
    "#import matplotlib.pyplot as plt\n",
    "#import seaborn as sns\n",
    "\n",
    "#import xgboost as xgb\n",
    "\n",
    "#from sklearn.metrics import mean_squared_error"
   ]
  },
  {
   "cell_type": "markdown",
   "id": "fa6af9e9",
   "metadata": {},
   "source": [
    "# **Data Pre Processing** #\n"
   ]
  },
  {
   "cell_type": "code",
   "execution_count": 2,
   "id": "6b0645ad",
   "metadata": {},
   "outputs": [],
   "source": [
    "df = pd.read_csv('Data/bookings_train.csv')"
   ]
  },
  {
   "cell_type": "code",
   "execution_count": 3,
   "id": "7a43cba8",
   "metadata": {},
   "outputs": [
    {
     "data": {
      "text/html": [
       "<div>\n",
       "<style scoped>\n",
       "    .dataframe tbody tr th:only-of-type {\n",
       "        vertical-align: middle;\n",
       "    }\n",
       "\n",
       "    .dataframe tbody tr th {\n",
       "        vertical-align: top;\n",
       "    }\n",
       "\n",
       "    .dataframe thead th {\n",
       "        text-align: right;\n",
       "    }\n",
       "</style>\n",
       "<table border=\"1\" class=\"dataframe\">\n",
       "  <thead>\n",
       "    <tr style=\"text-align: right;\">\n",
       "      <th></th>\n",
       "      <th>booking_id</th>\n",
       "      <th>citizen_id</th>\n",
       "      <th>booking_date</th>\n",
       "      <th>appointment_date</th>\n",
       "      <th>appointment_time</th>\n",
       "      <th>check_in_time</th>\n",
       "      <th>check_out_time</th>\n",
       "      <th>task_id</th>\n",
       "      <th>num_documents</th>\n",
       "      <th>queue_number</th>\n",
       "      <th>satisfaction_rating</th>\n",
       "    </tr>\n",
       "  </thead>\n",
       "  <tbody>\n",
       "    <tr>\n",
       "      <th>0</th>\n",
       "      <td>f7b59ba3793fea61282cb02be2247cebd0a75306</td>\n",
       "      <td>4229044420</td>\n",
       "      <td>2021-01-01</td>\n",
       "      <td>2021-01-01</td>\n",
       "      <td>09:03</td>\n",
       "      <td>2021-01-01 09:11:00</td>\n",
       "      <td>2021-01-01 09:48:15.166353269</td>\n",
       "      <td>TASK-002</td>\n",
       "      <td>0</td>\n",
       "      <td>2</td>\n",
       "      <td>4</td>\n",
       "    </tr>\n",
       "    <tr>\n",
       "      <th>1</th>\n",
       "      <td>cfe30d53b4b645e4cb6b114f6c9d74a0f25e6a80</td>\n",
       "      <td>5389442635</td>\n",
       "      <td>2021-01-01</td>\n",
       "      <td>2021-01-01</td>\n",
       "      <td>09:12</td>\n",
       "      <td>2021-01-01 09:24:00</td>\n",
       "      <td>2021-01-01 10:24:12.189261137</td>\n",
       "      <td>TASK-001</td>\n",
       "      <td>1</td>\n",
       "      <td>1</td>\n",
       "      <td>4</td>\n",
       "    </tr>\n",
       "    <tr>\n",
       "      <th>2</th>\n",
       "      <td>0fb0a5d9b3944dd743a9e7828dc03fa74aa6ebf8</td>\n",
       "      <td>2123783919</td>\n",
       "      <td>2021-01-01</td>\n",
       "      <td>2021-01-01</td>\n",
       "      <td>09:36</td>\n",
       "      <td>2021-01-01 09:29:00</td>\n",
       "      <td>2021-01-01 10:26:48.802260864</td>\n",
       "      <td>TASK-002</td>\n",
       "      <td>1</td>\n",
       "      <td>6</td>\n",
       "      <td>5</td>\n",
       "    </tr>\n",
       "    <tr>\n",
       "      <th>3</th>\n",
       "      <td>d4bf826153212fa325ad98b215668ab942365607</td>\n",
       "      <td>6359918966</td>\n",
       "      <td>2021-01-01</td>\n",
       "      <td>2021-01-01</td>\n",
       "      <td>09:45</td>\n",
       "      <td>2021-01-01 10:07:00</td>\n",
       "      <td>2021-01-01 11:00:13.485642822</td>\n",
       "      <td>TASK-001</td>\n",
       "      <td>1</td>\n",
       "      <td>4</td>\n",
       "      <td>4</td>\n",
       "    </tr>\n",
       "    <tr>\n",
       "      <th>4</th>\n",
       "      <td>ebb4c9687acbaf65376d8e379bd1341d1c15127e</td>\n",
       "      <td>178732202</td>\n",
       "      <td>2021-01-01</td>\n",
       "      <td>2021-01-01</td>\n",
       "      <td>10:12</td>\n",
       "      <td>2021-01-01 10:26:00</td>\n",
       "      <td>2021-01-01 11:54:53.260180213</td>\n",
       "      <td>TASK-002</td>\n",
       "      <td>1</td>\n",
       "      <td>8</td>\n",
       "      <td>3</td>\n",
       "    </tr>\n",
       "  </tbody>\n",
       "</table>\n",
       "</div>"
      ],
      "text/plain": [
       "                                 booking_id  citizen_id booking_date  \\\n",
       "0  f7b59ba3793fea61282cb02be2247cebd0a75306  4229044420   2021-01-01   \n",
       "1  cfe30d53b4b645e4cb6b114f6c9d74a0f25e6a80  5389442635   2021-01-01   \n",
       "2  0fb0a5d9b3944dd743a9e7828dc03fa74aa6ebf8  2123783919   2021-01-01   \n",
       "3  d4bf826153212fa325ad98b215668ab942365607  6359918966   2021-01-01   \n",
       "4  ebb4c9687acbaf65376d8e379bd1341d1c15127e   178732202   2021-01-01   \n",
       "\n",
       "  appointment_date appointment_time        check_in_time  \\\n",
       "0       2021-01-01            09:03  2021-01-01 09:11:00   \n",
       "1       2021-01-01            09:12  2021-01-01 09:24:00   \n",
       "2       2021-01-01            09:36  2021-01-01 09:29:00   \n",
       "3       2021-01-01            09:45  2021-01-01 10:07:00   \n",
       "4       2021-01-01            10:12  2021-01-01 10:26:00   \n",
       "\n",
       "                  check_out_time   task_id  num_documents  queue_number  \\\n",
       "0  2021-01-01 09:48:15.166353269  TASK-002              0             2   \n",
       "1  2021-01-01 10:24:12.189261137  TASK-001              1             1   \n",
       "2  2021-01-01 10:26:48.802260864  TASK-002              1             6   \n",
       "3  2021-01-01 11:00:13.485642822  TASK-001              1             4   \n",
       "4  2021-01-01 11:54:53.260180213  TASK-002              1             8   \n",
       "\n",
       "   satisfaction_rating  \n",
       "0                    4  \n",
       "1                    4  \n",
       "2                    5  \n",
       "3                    4  \n",
       "4                    3  "
      ]
     },
     "execution_count": 3,
     "metadata": {},
     "output_type": "execute_result"
    }
   ],
   "source": [
    "df. head()"
   ]
  },
  {
   "cell_type": "code",
   "execution_count": 4,
   "id": "3417915c",
   "metadata": {},
   "outputs": [
    {
     "name": "stdout",
     "output_type": "stream",
     "text": [
      "<class 'pandas.core.frame.DataFrame'>\n",
      "RangeIndex: 203693 entries, 0 to 203692\n",
      "Data columns (total 11 columns):\n",
      " #   Column               Non-Null Count   Dtype \n",
      "---  ------               --------------   ----- \n",
      " 0   booking_id           203693 non-null  object\n",
      " 1   citizen_id           203693 non-null  int64 \n",
      " 2   booking_date         203693 non-null  object\n",
      " 3   appointment_date     203693 non-null  object\n",
      " 4   appointment_time     203693 non-null  object\n",
      " 5   check_in_time        197601 non-null  object\n",
      " 6   check_out_time       197601 non-null  object\n",
      " 7   task_id              203693 non-null  object\n",
      " 8   num_documents        203693 non-null  int64 \n",
      " 9   queue_number         203693 non-null  int64 \n",
      " 10  satisfaction_rating  203693 non-null  int64 \n",
      "dtypes: int64(4), object(7)\n",
      "memory usage: 17.1+ MB\n"
     ]
    }
   ],
   "source": [
    "df. info()"
   ]
  },
  {
   "cell_type": "code",
   "execution_count": 5,
   "id": "b7eda463",
   "metadata": {},
   "outputs": [],
   "source": [
    "df['booking_date'] = pd.to_datetime(df['booking_date'])"
   ]
  },
  {
   "cell_type": "code",
   "execution_count": 6,
   "id": "d91aa46c",
   "metadata": {},
   "outputs": [],
   "source": [
    "df['appointment_date'] = pd.to_datetime(df['appointment_date'])\n",
    "df['appointment_time'] = pd.to_datetime(df['appointment_time'], format='%H:%M').dt.time\n",
    "df['check_in_time'] = pd.to_datetime(df['check_in_time'], errors='coerce')\n",
    "df['check_out_time'] = pd.to_datetime(df['check_out_time'], errors='coerce')"
   ]
  },
  {
   "cell_type": "code",
   "execution_count": 7,
   "id": "354f8798",
   "metadata": {},
   "outputs": [],
   "source": [
    "#this is not directly used in the model, but can use in future\n",
    "df['day_of_week'] = df['appointment_date'].dt.dayofweek        # 0=Mon, 6=Sun\n",
    "df['month'] = df['appointment_date'].dt.month\n",
    "df['year'] = df['appointment_date'].dt.year\n",
    "df['is_weekend'] = df['day_of_week'].isin([5, 6]).astype(int)"
   ]
  },
  {
   "cell_type": "markdown",
   "id": "1ad28ce8",
   "metadata": {},
   "source": [
    "# **Feature Engineering** #"
   ]
  },
  {
   "cell_type": "code",
   "execution_count": 8,
   "id": "3ee758cd",
   "metadata": {},
   "outputs": [],
   "source": [
    "df['service_duration'] = (df['check_out_time'] - df['check_in_time']).dt.total_seconds() / 60.0"
   ]
  },
  {
   "cell_type": "code",
   "execution_count": 9,
   "id": "27ce6fed",
   "metadata": {},
   "outputs": [],
   "source": [
    "df['task_id_encoded'] = df['task_id'].astype('category').cat.codes"
   ]
  },
  {
   "cell_type": "markdown",
   "id": "a55925d0",
   "metadata": {},
   "source": [
    "# **Explotary Data Analysis / Data cleaning** #"
   ]
  },
  {
   "cell_type": "code",
   "execution_count": 10,
   "id": "55b5c03b",
   "metadata": {},
   "outputs": [
    {
     "data": {
      "text/plain": [
       "booking_id                0\n",
       "citizen_id                0\n",
       "booking_date              0\n",
       "appointment_date          0\n",
       "appointment_time          0\n",
       "check_in_time          6092\n",
       "check_out_time         6092\n",
       "task_id                   0\n",
       "num_documents             0\n",
       "queue_number              0\n",
       "satisfaction_rating       0\n",
       "day_of_week               0\n",
       "month                     0\n",
       "year                      0\n",
       "is_weekend                0\n",
       "service_duration       6092\n",
       "task_id_encoded           0\n",
       "dtype: int64"
      ]
     },
     "execution_count": 10,
     "metadata": {},
     "output_type": "execute_result"
    }
   ],
   "source": [
    "df.isnull().sum()"
   ]
  },
  {
   "cell_type": "code",
   "execution_count": 11,
   "id": "863fc337",
   "metadata": {},
   "outputs": [],
   "source": [
    "df = df.dropna(subset=['check_in_time', 'check_out_time', 'service_duration']).reset_index(drop=True)"
   ]
  },
  {
   "cell_type": "markdown",
   "id": "772c0e7f",
   "metadata": {},
   "source": [
    "# **Model Training** #"
   ]
  },
  {
   "cell_type": "code",
   "execution_count": null,
   "id": "86f6de71",
   "metadata": {},
   "outputs": [],
   "source": []
  },
  {
   "cell_type": "markdown",
   "id": "7aa55f00",
   "metadata": {},
   "source": [
    "# **Model Evaluation** #"
   ]
  },
  {
   "cell_type": "code",
   "execution_count": null,
   "id": "06cc98a9",
   "metadata": {},
   "outputs": [],
   "source": []
  }
 ],
 "metadata": {
  "kernelspec": {
   "display_name": "Python 3",
   "language": "python",
   "name": "python3"
  },
  "language_info": {
   "codemirror_mode": {
    "name": "ipython",
    "version": 3
   },
   "file_extension": ".py",
   "mimetype": "text/x-python",
   "name": "python",
   "nbconvert_exporter": "python",
   "pygments_lexer": "ipython3",
   "version": "3.13.1"
  }
 },
 "nbformat": 4,
 "nbformat_minor": 5
}
