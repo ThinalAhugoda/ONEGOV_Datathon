{
 "cells": [
  {
   "cell_type": "code",
   "execution_count": null,
   "id": "b19c52d3",
   "metadata": {},
   "outputs": [],
   "source": [
    "#import all dependencies\n",
    "import pandas as pd"
   ]
  },
  {
   "cell_type": "markdown",
   "id": "fa6af9e9",
   "metadata": {},
   "source": [
    "# **Data Pre Processing** #\n"
   ]
  },
  {
   "cell_type": "code",
   "execution_count": null,
   "id": "7a43cba8",
   "metadata": {},
   "outputs": [],
   "source": []
  },
  {
   "cell_type": "markdown",
   "id": "1ad28ce8",
   "metadata": {},
   "source": [
    "# **Feature Engineering** #"
   ]
  },
  {
   "cell_type": "code",
   "execution_count": null,
   "id": "00f21b5b",
   "metadata": {},
   "outputs": [],
   "source": []
  },
  {
   "cell_type": "markdown",
   "id": "a55925d0",
   "metadata": {},
   "source": [
    "# **Explotary Data Analysis / Data cleaning** #"
   ]
  },
  {
   "cell_type": "code",
   "execution_count": null,
   "id": "55b5c03b",
   "metadata": {},
   "outputs": [],
   "source": []
  },
  {
   "cell_type": "markdown",
   "id": "772c0e7f",
   "metadata": {},
   "source": [
    "# **Model Training** #"
   ]
  },
  {
   "cell_type": "code",
   "execution_count": null,
   "id": "86f6de71",
   "metadata": {},
   "outputs": [],
   "source": []
  },
  {
   "cell_type": "markdown",
   "id": "7aa55f00",
   "metadata": {},
   "source": [
    "# **Model Evaluation** #"
   ]
  },
  {
   "cell_type": "code",
   "execution_count": null,
   "id": "06cc98a9",
   "metadata": {},
   "outputs": [],
   "source": []
  }
 ],
 "metadata": {
  "language_info": {
   "name": "python"
  }
 },
 "nbformat": 4,
 "nbformat_minor": 5
}
