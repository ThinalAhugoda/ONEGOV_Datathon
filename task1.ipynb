{
 "cells": [
  {
   "cell_type": "code",
   "execution_count": null,
   "id": "b19c52d3",
   "metadata": {},
   "outputs": [],
   "source": [
    "#import all dependencies\n",
    "import pandas as pd\n",
    "#import numpy as np\n",
    "#import matplotlib.pyplot as plt\n",
    "#import seaborn as sns\n",
    "\n",
    "#import xgboost as xgb\n",
    "\n",
    "#from sklearn.metrics import mean_squared_error"
   ]
  },
  {
   "cell_type": "markdown",
   "id": "fa6af9e9",
   "metadata": {},
   "source": [
    "# **Data Pre Processing** #\n"
   ]
  },
  {
   "cell_type": "code",
   "execution_count": null,
   "id": "6b0645ad",
   "metadata": {},
   "outputs": [],
   "source": [
    "df = pd.read_csv('Data/bookings_train.csv')"
   ]
  },
  {
   "cell_type": "code",
   "execution_count": null,
   "id": "7a43cba8",
   "metadata": {},
   "outputs": [],
   "source": []
  },
  {
   "cell_type": "markdown",
   "id": "1ad28ce8",
   "metadata": {},
   "source": [
    "# **Feature Engineering** #"
   ]
  },
  {
   "cell_type": "code",
   "execution_count": null,
   "id": "00f21b5b",
   "metadata": {},
   "outputs": [],
   "source": []
  },
  {
   "cell_type": "markdown",
   "id": "a55925d0",
   "metadata": {},
   "source": [
    "# **Explotary Data Analysis / Data cleaning** #"
   ]
  },
  {
   "cell_type": "code",
   "execution_count": null,
   "id": "55b5c03b",
   "metadata": {},
   "outputs": [],
   "source": []
  },
  {
   "cell_type": "markdown",
   "id": "772c0e7f",
   "metadata": {},
   "source": [
    "# **Model Training** #"
   ]
  },
  {
   "cell_type": "code",
   "execution_count": null,
   "id": "86f6de71",
   "metadata": {},
   "outputs": [],
   "source": []
  },
  {
   "cell_type": "markdown",
   "id": "7aa55f00",
   "metadata": {},
   "source": [
    "# **Model Evaluation** #"
   ]
  },
  {
   "cell_type": "code",
   "execution_count": null,
   "id": "06cc98a9",
   "metadata": {},
   "outputs": [],
   "source": []
  }
 ],
 "metadata": {
  "kernelspec": {
   "display_name": "Python 3",
   "language": "python",
   "name": "python3"
  },
  "language_info": {
   "codemirror_mode": {
    "name": "ipython",
    "version": 3
   },
   "file_extension": ".py",
   "mimetype": "text/x-python",
   "name": "python",
   "nbconvert_exporter": "python",
   "pygments_lexer": "ipython3",
   "version": "3.11.0"
  }
 },
 "nbformat": 4,
 "nbformat_minor": 5
}
